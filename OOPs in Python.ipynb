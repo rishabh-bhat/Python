{
 "cells": [
  {
   "cell_type": "markdown",
   "metadata": {},
   "source": [
    "# OOP --> Object Oriented Programming"
   ]
  },
  {
   "cell_type": "markdown",
   "metadata": {},
   "source": [
    "### Features of OOP\n",
    "\n",
    "1. Class\n",
    "2. Object\n",
    "3. Inheritence\n",
    "4. Data Hiding\n",
    "5. Polymorphism\n",
    "6. Encapsulation\n",
    "7. Abstraction"
   ]
  },
  {
   "cell_type": "markdown",
   "metadata": {},
   "source": [
    "**Syntax --**\n",
    "\n",
    "        class Classname:\n",
    "            data_members\n",
    "            member_functions"
   ]
  },
  {
   "cell_type": "code",
   "execution_count": 18,
   "metadata": {},
   "outputs": [],
   "source": [
    "class Robot:\n",
    "    \"\"\"I am a class Robot\"\"\""
   ]
  },
  {
   "cell_type": "code",
   "execution_count": 8,
   "metadata": {},
   "outputs": [],
   "source": [
    "Robot?"
   ]
  },
  {
   "cell_type": "code",
   "execution_count": 9,
   "metadata": {},
   "outputs": [],
   "source": [
    "def hello(i):\n",
    "    \"\"\"Hello I am a function-->   hello(itreable)\n",
    "    It will return a list\"\"\"\n",
    "    return list(i)"
   ]
  },
  {
   "cell_type": "code",
   "execution_count": 10,
   "metadata": {},
   "outputs": [],
   "source": [
    "hello?"
   ]
  },
  {
   "cell_type": "code",
   "execution_count": 11,
   "metadata": {},
   "outputs": [
    {
     "data": {
      "text/plain": [
       "['P', 'y', 't', 'h', 'o', 'n']"
      ]
     },
     "execution_count": 11,
     "metadata": {},
     "output_type": "execute_result"
    }
   ],
   "source": [
    "hello(\"Python\")"
   ]
  },
  {
   "cell_type": "code",
   "execution_count": 12,
   "metadata": {},
   "outputs": [
    {
     "name": "stdout",
     "output_type": "stream",
     "text": [
      "<class 'type'>\n"
     ]
    }
   ],
   "source": [
    "print(type(Robot))"
   ]
  },
  {
   "cell_type": "code",
   "execution_count": 19,
   "metadata": {},
   "outputs": [
    {
     "name": "stdout",
     "output_type": "stream",
     "text": [
      "['__class__', '__delattr__', '__dict__', '__dir__', '__doc__', '__eq__', '__format__', '__ge__', '__getattribute__', '__gt__', '__hash__', '__init__', '__init_subclass__', '__le__', '__lt__', '__module__', '__ne__', '__new__', '__reduce__', '__reduce_ex__', '__repr__', '__setattr__', '__sizeof__', '__str__', '__subclasshook__', '__weakref__']\n"
     ]
    }
   ],
   "source": [
    "print(dir(Robot))"
   ]
  },
  {
   "cell_type": "code",
   "execution_count": 20,
   "metadata": {},
   "outputs": [],
   "source": [
    "class Robot:\n",
    "    x:None\n",
    "    y:None\n",
    "    z:None"
   ]
  },
  {
   "cell_type": "code",
   "execution_count": 21,
   "metadata": {},
   "outputs": [
    {
     "name": "stdout",
     "output_type": "stream",
     "text": [
      "['__annotations__', '__class__', '__delattr__', '__dict__', '__dir__', '__doc__', '__eq__', '__format__', '__ge__', '__getattribute__', '__gt__', '__hash__', '__init__', '__init_subclass__', '__le__', '__lt__', '__module__', '__ne__', '__new__', '__reduce__', '__reduce_ex__', '__repr__', '__setattr__', '__sizeof__', '__str__', '__subclasshook__', '__weakref__']\n"
     ]
    }
   ],
   "source": [
    "print(dir(Robot))"
   ]
  },
  {
   "cell_type": "code",
   "execution_count": 23,
   "metadata": {},
   "outputs": [],
   "source": [
    "Robot.x = \"Ravi\""
   ]
  },
  {
   "cell_type": "code",
   "execution_count": 24,
   "metadata": {},
   "outputs": [
    {
     "name": "stdout",
     "output_type": "stream",
     "text": [
      "['__annotations__', '__class__', '__delattr__', '__dict__', '__dir__', '__doc__', '__eq__', '__format__', '__ge__', '__getattribute__', '__gt__', '__hash__', '__init__', '__init_subclass__', '__le__', '__lt__', '__module__', '__ne__', '__new__', '__reduce__', '__reduce_ex__', '__repr__', '__setattr__', '__sizeof__', '__str__', '__subclasshook__', '__weakref__', 'x']\n"
     ]
    }
   ],
   "source": [
    "print(dir(Robot))"
   ]
  },
  {
   "cell_type": "code",
   "execution_count": 26,
   "metadata": {},
   "outputs": [],
   "source": [
    "Robot.y = \"Hello\""
   ]
  },
  {
   "cell_type": "code",
   "execution_count": 27,
   "metadata": {},
   "outputs": [
    {
     "data": {
      "text/plain": [
       "'Hello'"
      ]
     },
     "execution_count": 27,
     "metadata": {},
     "output_type": "execute_result"
    }
   ],
   "source": [
    "Robot.y"
   ]
  },
  {
   "cell_type": "code",
   "execution_count": 28,
   "metadata": {},
   "outputs": [
    {
     "name": "stdout",
     "output_type": "stream",
     "text": [
      "['__annotations__', '__class__', '__delattr__', '__dict__', '__dir__', '__doc__', '__eq__', '__format__', '__ge__', '__getattribute__', '__gt__', '__hash__', '__init__', '__init_subclass__', '__le__', '__lt__', '__module__', '__ne__', '__new__', '__reduce__', '__reduce_ex__', '__repr__', '__setattr__', '__sizeof__', '__str__', '__subclasshook__', '__weakref__', 'x', 'y']\n"
     ]
    }
   ],
   "source": [
    "print(dir(Robot))"
   ]
  },
  {
   "cell_type": "code",
   "execution_count": 4,
   "metadata": {},
   "outputs": [
    {
     "ename": "NameError",
     "evalue": "name 'Robot' is not defined",
     "output_type": "error",
     "traceback": [
      "\u001b[1;31m---------------------------------------------------------------------------\u001b[0m",
      "\u001b[1;31mNameError\u001b[0m                                 Traceback (most recent call last)",
      "\u001b[1;32m<ipython-input-4-d233ae0df160>\u001b[0m in \u001b[0;36m<module>\u001b[1;34m\u001b[0m\n\u001b[0;32m      1\u001b[0m \u001b[1;31m#creation of object\u001b[0m\u001b[1;33m\u001b[0m\u001b[1;33m\u001b[0m\u001b[1;33m\u001b[0m\u001b[0m\n\u001b[1;32m----> 2\u001b[1;33m \u001b[0mobj1\u001b[0m \u001b[1;33m=\u001b[0m \u001b[0mRobot\u001b[0m\u001b[1;33m(\u001b[0m\u001b[1;33m)\u001b[0m\u001b[1;33m\u001b[0m\u001b[1;33m\u001b[0m\u001b[0m\n\u001b[0m\u001b[0;32m      3\u001b[0m \u001b[0mobj2\u001b[0m\u001b[1;33m=\u001b[0m \u001b[0mRobot\u001b[0m\u001b[1;33m(\u001b[0m\u001b[1;33m)\u001b[0m\u001b[1;33m\u001b[0m\u001b[1;33m\u001b[0m\u001b[0m\n",
      "\u001b[1;31mNameError\u001b[0m: name 'Robot' is not defined"
     ]
    }
   ],
   "source": [
    "#creation of object\n",
    "obj1 = Robot()\n",
    "obj2= Robot()"
   ]
  },
  {
   "cell_type": "code",
   "execution_count": null,
   "metadata": {},
   "outputs": [],
   "source": [
    "print(dir(obj2))"
   ]
  },
  {
   "cell_type": "code",
   "execution_count": 33,
   "metadata": {},
   "outputs": [],
   "source": [
    "obj1.ravi = \"Hello My name is Ravi\""
   ]
  },
  {
   "cell_type": "code",
   "execution_count": 34,
   "metadata": {},
   "outputs": [
    {
     "name": "stdout",
     "output_type": "stream",
     "text": [
      "['__annotations__', '__class__', '__delattr__', '__dict__', '__dir__', '__doc__', '__eq__', '__format__', '__ge__', '__getattribute__', '__gt__', '__hash__', '__init__', '__init_subclass__', '__le__', '__lt__', '__module__', '__ne__', '__new__', '__reduce__', '__reduce_ex__', '__repr__', '__setattr__', '__sizeof__', '__str__', '__subclasshook__', '__weakref__', 'ravi', 'x', 'y']\n"
     ]
    }
   ],
   "source": [
    "print(dir(obj1))"
   ]
  },
  {
   "cell_type": "code",
   "execution_count": 35,
   "metadata": {},
   "outputs": [
    {
     "name": "stdout",
     "output_type": "stream",
     "text": [
      "['__annotations__', '__class__', '__delattr__', '__dict__', '__dir__', '__doc__', '__eq__', '__format__', '__ge__', '__getattribute__', '__gt__', '__hash__', '__init__', '__init_subclass__', '__le__', '__lt__', '__module__', '__ne__', '__new__', '__reduce__', '__reduce_ex__', '__repr__', '__setattr__', '__sizeof__', '__str__', '__subclasshook__', '__weakref__', 'x', 'y']\n"
     ]
    }
   ],
   "source": [
    "print(dir(obj2))"
   ]
  },
  {
   "cell_type": "code",
   "execution_count": 36,
   "metadata": {},
   "outputs": [
    {
     "name": "stdout",
     "output_type": "stream",
     "text": [
      "['__annotations__', '__class__', '__delattr__', '__dict__', '__dir__', '__doc__', '__eq__', '__format__', '__ge__', '__getattribute__', '__gt__', '__hash__', '__init__', '__init_subclass__', '__le__', '__lt__', '__module__', '__ne__', '__new__', '__reduce__', '__reduce_ex__', '__repr__', '__setattr__', '__sizeof__', '__str__', '__subclasshook__', '__weakref__', 'x', 'y']\n"
     ]
    }
   ],
   "source": [
    "print(dir(Robot))"
   ]
  },
  {
   "cell_type": "code",
   "execution_count": 37,
   "metadata": {},
   "outputs": [
    {
     "data": {
      "text/plain": [
       "'Hello My name is Ravi'"
      ]
     },
     "execution_count": 37,
     "metadata": {},
     "output_type": "execute_result"
    }
   ],
   "source": [
    "obj1.ravi"
   ]
  },
  {
   "cell_type": "code",
   "execution_count": 47,
   "metadata": {},
   "outputs": [],
   "source": [
    "class Robot:\n",
    "    def show(self):\n",
    "        print(\"Hello I am class ROBOT\")"
   ]
  },
  {
   "cell_type": "code",
   "execution_count": 53,
   "metadata": {},
   "outputs": [],
   "source": [
    "obj1 = Robot()"
   ]
  },
  {
   "cell_type": "code",
   "execution_count": 54,
   "metadata": {},
   "outputs": [
    {
     "name": "stdout",
     "output_type": "stream",
     "text": [
      "Hello I am class ROBOT\n"
     ]
    }
   ],
   "source": [
    "obj1.show()"
   ]
  },
  {
   "cell_type": "code",
   "execution_count": 55,
   "metadata": {},
   "outputs": [
    {
     "name": "stdout",
     "output_type": "stream",
     "text": [
      "['__class__', '__delattr__', '__dict__', '__dir__', '__doc__', '__eq__', '__format__', '__ge__', '__getattribute__', '__gt__', '__hash__', '__init__', '__init_subclass__', '__le__', '__lt__', '__module__', '__ne__', '__new__', '__reduce__', '__reduce_ex__', '__repr__', '__setattr__', '__sizeof__', '__str__', '__subclasshook__', '__weakref__', 'show']\n"
     ]
    }
   ],
   "source": [
    "print(dir(obj1))"
   ]
  },
  {
   "cell_type": "code",
   "execution_count": 1,
   "metadata": {},
   "outputs": [
    {
     "data": {
      "text/plain": [
       "'num = 0\\nwhile num!=0:\\n    print(\"Hello World\")\\n    num+=1\\nprint(\"Yellow World\")'"
      ]
     },
     "execution_count": 1,
     "metadata": {},
     "output_type": "execute_result"
    }
   ],
   "source": [
    "\"\"\"num = 0\n",
    "while num!=0:\n",
    "    print(\"Hello World\")\n",
    "    num+=1\n",
    "print(\"Yellow World\")\"\"\""
   ]
  },
  {
   "cell_type": "code",
   "execution_count": 2,
   "metadata": {},
   "outputs": [
    {
     "data": {
      "text/plain": [
       "'l = [\"Ravi\",\"tavi\",\"pavi\",\"navi\",\"gavi\",\"savi\"]\\nfor var in l:\\n    print(var.replace(var[0],\"k\"))'"
      ]
     },
     "execution_count": 2,
     "metadata": {},
     "output_type": "execute_result"
    }
   ],
   "source": [
    "\"\"\"l = [\"Ravi\",\"tavi\",\"pavi\",\"navi\",\"gavi\",\"savi\"]\n",
    "for var in l:\n",
    "    print(var.replace(var[0],\"k\"))\"\"\""
   ]
  },
  {
   "cell_type": "code",
   "execution_count": 3,
   "metadata": {},
   "outputs": [
    {
     "data": {
      "text/plain": [
       "'output-->   [\"kavi\",\"kavi\",\"kavi\",\"kavi\",\"kavi\",\"kavi\"]'"
      ]
     },
     "execution_count": 3,
     "metadata": {},
     "output_type": "execute_result"
    }
   ],
   "source": [
    "\"\"\"output-->   [\"kavi\",\"kavi\",\"kavi\",\"kavi\",\"kavi\",\"kavi\"]\"\"\""
   ]
  },
  {
   "cell_type": "code",
   "execution_count": 13,
   "metadata": {},
   "outputs": [],
   "source": [
    "class summ:\n",
    "    name:None\n",
    "    classs:None\n",
    "    rollno:None\n",
    "    def get(self):\n",
    "        self.name=\"Deepak\"\n",
    "        self.classs=1\n",
    "        self.rollno=12\n",
    "    def get1(self):\n",
    "        self.name=\"Sahil\"\n",
    "        self.classs=4\n",
    "        self.rollno=3\n",
    "    def show(self):\n",
    "        print(f\"Name --> {self.name}\")\n",
    "        print(f\"Class --> {self.classs}\")\n",
    "        print(f\"Roll No --> {self.rollno}\")"
   ]
  },
  {
   "cell_type": "code",
   "execution_count": 14,
   "metadata": {},
   "outputs": [
    {
     "name": "stdout",
     "output_type": "stream",
     "text": [
      "['__annotations__', '__class__', '__delattr__', '__dict__', '__dir__', '__doc__', '__eq__', '__format__', '__ge__', '__getattribute__', '__gt__', '__hash__', '__init__', '__init_subclass__', '__le__', '__lt__', '__module__', '__ne__', '__new__', '__reduce__', '__reduce_ex__', '__repr__', '__setattr__', '__sizeof__', '__str__', '__subclasshook__', '__weakref__', 'get', 'get1', 'show']\n"
     ]
    }
   ],
   "source": [
    "print(dir(summ))"
   ]
  },
  {
   "cell_type": "code",
   "execution_count": 15,
   "metadata": {},
   "outputs": [],
   "source": [
    "deep = summ()\n",
    "jay = summ()"
   ]
  },
  {
   "cell_type": "code",
   "execution_count": 16,
   "metadata": {},
   "outputs": [],
   "source": [
    "deep.get()"
   ]
  },
  {
   "cell_type": "code",
   "execution_count": 17,
   "metadata": {},
   "outputs": [],
   "source": [
    "jay.get1()"
   ]
  },
  {
   "cell_type": "code",
   "execution_count": 18,
   "metadata": {},
   "outputs": [
    {
     "name": "stdout",
     "output_type": "stream",
     "text": [
      "Name --> Deepak\n",
      "Class --> 1\n",
      "Roll No --> 12\n"
     ]
    }
   ],
   "source": [
    "deep.show()"
   ]
  },
  {
   "cell_type": "code",
   "execution_count": 19,
   "metadata": {},
   "outputs": [
    {
     "name": "stdout",
     "output_type": "stream",
     "text": [
      "Name --> Sahil\n",
      "Class --> 4\n",
      "Roll No --> 3\n"
     ]
    }
   ],
   "source": [
    "jay.show()"
   ]
  },
  {
   "cell_type": "code",
   "execution_count": 21,
   "metadata": {},
   "outputs": [],
   "source": [
    "jay.name=\"Ravi\""
   ]
  },
  {
   "cell_type": "code",
   "execution_count": 22,
   "metadata": {},
   "outputs": [
    {
     "name": "stdout",
     "output_type": "stream",
     "text": [
      "Name --> Ravi\n",
      "Class --> 4\n",
      "Roll No --> 3\n"
     ]
    }
   ],
   "source": [
    "jay.show()"
   ]
  },
  {
   "cell_type": "code",
   "execution_count": 23,
   "metadata": {},
   "outputs": [],
   "source": [
    "#parameters\n",
    "class Robot:\n",
    "    def __init__(self,x,y,z,p): #constructor\n",
    "        self.name=x\n",
    "        self.height=y\n",
    "        self.weight=z\n",
    "        self.color=p\n",
    "    def show(self):\n",
    "        print(f\"Name --> {self.name}\")\n",
    "        print(f\"Height --> {self.height}\")\n",
    "        print(f\"Weight --> {self.weight}\")\n",
    "        print(f\"Color --> {self.color}\")"
   ]
  },
  {
   "cell_type": "code",
   "execution_count": 25,
   "metadata": {},
   "outputs": [],
   "source": [
    "robot1 = Robot(\"Iron Man\",6.1,80,\"Red\")\n",
    "robot2 = Robot(\"Modi\",5.9,78,\"Silver\")"
   ]
  },
  {
   "cell_type": "code",
   "execution_count": 26,
   "metadata": {},
   "outputs": [
    {
     "name": "stdout",
     "output_type": "stream",
     "text": [
      "Name --> Iron Man\n",
      "Height --> 6.1\n",
      "Weight --> 80\n",
      "Color --> Red\n"
     ]
    }
   ],
   "source": [
    "robot1.show()"
   ]
  },
  {
   "cell_type": "code",
   "execution_count": 27,
   "metadata": {},
   "outputs": [
    {
     "name": "stdout",
     "output_type": "stream",
     "text": [
      "Name --> Modi\n",
      "Height --> 5.9\n",
      "Weight --> 78\n",
      "Color --> Silver\n"
     ]
    }
   ],
   "source": [
    "robot2.show()"
   ]
  },
  {
   "cell_type": "code",
   "execution_count": 28,
   "metadata": {},
   "outputs": [],
   "source": [
    "class Robot:\n",
    "    def create(self,x,y,z,p):\n",
    "        self.name=x\n",
    "        self.height=y\n",
    "        self.weight=z\n",
    "        self.color=p\n",
    "    def show(self):\n",
    "        print(f\"Name --> {self.name}\")\n",
    "        print(f\"Height --> {self.height}\")\n",
    "        print(f\"Weight --> {self.weight}\")\n",
    "        print(f\"Color --> {self.color}\")"
   ]
  },
  {
   "cell_type": "code",
   "execution_count": 30,
   "metadata": {},
   "outputs": [],
   "source": [
    "robot1=Robot()\n",
    "robot2=Robot()"
   ]
  },
  {
   "cell_type": "code",
   "execution_count": 31,
   "metadata": {},
   "outputs": [],
   "source": [
    "robot1.create(\"Iron Man\",6.1,80,\"Red\")\n",
    "robot2.create(\"Modi\",5.9,78,\"Silver\")"
   ]
  },
  {
   "cell_type": "code",
   "execution_count": 32,
   "metadata": {},
   "outputs": [
    {
     "name": "stdout",
     "output_type": "stream",
     "text": [
      "Name --> Iron Man\n",
      "Height --> 6.1\n",
      "Weight --> 80\n",
      "Color --> Red\n"
     ]
    }
   ],
   "source": [
    "robot1.show()"
   ]
  },
  {
   "cell_type": "code",
   "execution_count": 34,
   "metadata": {},
   "outputs": [
    {
     "name": "stdout",
     "output_type": "stream",
     "text": [
      "Name --> Modi\n",
      "Height --> 5.9\n",
      "Weight --> 78\n",
      "Color --> Silver\n"
     ]
    }
   ],
   "source": [
    "robot2.show()"
   ]
  },
  {
   "cell_type": "code",
   "execution_count": 1,
   "metadata": {},
   "outputs": [],
   "source": [
    "import time\n",
    "class Grras:\n",
    "    \"\"\"Welcome To Grras Solutions Pvt. Ltd.\"\"\"\n",
    "    msg1 = \"This is default broadcasting Msg\"\n",
    "    def __init__(self,course,name):\n",
    "        self.course=course\n",
    "        self.name=name\n",
    "    def show(self):\n",
    "        print(\"Course --> \",self.course)\n",
    "        print(\"Trainer Name --> \",self.name)\n",
    "    def msg():\n",
    "        print(\"Msg --> \",Grras.msg1)\n",
    "    def __del__(self):   #destructor\n",
    "        print(\"Deletion of Object\")\n",
    "        time.sleep(2)\n",
    "        print(\"Deleting Course\",self.course)\n",
    "        del self.course\n",
    "        time.sleep(2)\n",
    "        print(\"Deleting Name\",self.name)\n",
    "        del self.name\n",
    "        time.sleep(1)\n",
    "        print(\"Deleting Complete Object\")\n",
    "        del self"
   ]
  },
  {
   "cell_type": "code",
   "execution_count": 2,
   "metadata": {},
   "outputs": [],
   "source": [
    "obj1 = Grras(\"Python\",\"Ravi\")\n",
    "obj2 = Grras(\"AWS\",\"Sudarshan\")\n",
    "obj3 = Grras(\"Linux\",\"Shahrukh\")\n",
    "obj4 = Grras(\"PHP\",\"Ankush\")"
   ]
  },
  {
   "cell_type": "code",
   "execution_count": 3,
   "metadata": {},
   "outputs": [
    {
     "name": "stdout",
     "output_type": "stream",
     "text": [
      "['__class__', '__del__', '__delattr__', '__dict__', '__dir__', '__doc__', '__eq__', '__format__', '__ge__', '__getattribute__', '__gt__', '__hash__', '__init__', '__init_subclass__', '__le__', '__lt__', '__module__', '__ne__', '__new__', '__reduce__', '__reduce_ex__', '__repr__', '__setattr__', '__sizeof__', '__str__', '__subclasshook__', '__weakref__', 'msg', 'msg1', 'show']\n"
     ]
    }
   ],
   "source": [
    "print(dir(Grras))"
   ]
  },
  {
   "cell_type": "code",
   "execution_count": 4,
   "metadata": {},
   "outputs": [
    {
     "name": "stdout",
     "output_type": "stream",
     "text": [
      "['__class__', '__del__', '__delattr__', '__dict__', '__dir__', '__doc__', '__eq__', '__format__', '__ge__', '__getattribute__', '__gt__', '__hash__', '__init__', '__init_subclass__', '__le__', '__lt__', '__module__', '__ne__', '__new__', '__reduce__', '__reduce_ex__', '__repr__', '__setattr__', '__sizeof__', '__str__', '__subclasshook__', '__weakref__', 'course', 'msg', 'msg1', 'name', 'show']\n"
     ]
    }
   ],
   "source": [
    "print(dir(obj1))"
   ]
  },
  {
   "cell_type": "code",
   "execution_count": 5,
   "metadata": {},
   "outputs": [
    {
     "name": "stdout",
     "output_type": "stream",
     "text": [
      "Course -->  Python\n",
      "Trainer Name -->  Ravi\n"
     ]
    }
   ],
   "source": [
    "obj1.show()"
   ]
  },
  {
   "cell_type": "code",
   "execution_count": 6,
   "metadata": {},
   "outputs": [
    {
     "name": "stdout",
     "output_type": "stream",
     "text": [
      "Course -->  AWS\n",
      "Trainer Name -->  Sudarshan\n"
     ]
    }
   ],
   "source": [
    "obj2.show()"
   ]
  },
  {
   "cell_type": "code",
   "execution_count": 7,
   "metadata": {},
   "outputs": [
    {
     "name": "stdout",
     "output_type": "stream",
     "text": [
      "Course -->  Linux\n",
      "Trainer Name -->  Shahrukh\n"
     ]
    }
   ],
   "source": [
    "obj3.show()"
   ]
  },
  {
   "cell_type": "code",
   "execution_count": 8,
   "metadata": {},
   "outputs": [
    {
     "name": "stdout",
     "output_type": "stream",
     "text": [
      "Course -->  PHP\n",
      "Trainer Name -->  Ankush\n"
     ]
    }
   ],
   "source": [
    "obj4.show()"
   ]
  },
  {
   "cell_type": "code",
   "execution_count": 9,
   "metadata": {},
   "outputs": [
    {
     "name": "stdout",
     "output_type": "stream",
     "text": [
      "Deletion of Object\n",
      "Deleting Course PHP\n",
      "Deleting Name Ankush\n",
      "Deleting Complete Object\n"
     ]
    }
   ],
   "source": [
    "del obj4"
   ]
  },
  {
   "cell_type": "code",
   "execution_count": 10,
   "metadata": {},
   "outputs": [
    {
     "ename": "NameError",
     "evalue": "name 'obj4' is not defined",
     "output_type": "error",
     "traceback": [
      "\u001b[1;31m---------------------------------------------------------------------------\u001b[0m",
      "\u001b[1;31mNameError\u001b[0m                                 Traceback (most recent call last)",
      "\u001b[1;32m<ipython-input-10-00bf61a2466a>\u001b[0m in \u001b[0;36m<module>\u001b[1;34m\u001b[0m\n\u001b[1;32m----> 1\u001b[1;33m \u001b[0mobj4\u001b[0m\u001b[1;33m.\u001b[0m\u001b[0mshow\u001b[0m\u001b[1;33m(\u001b[0m\u001b[1;33m)\u001b[0m\u001b[1;33m\u001b[0m\u001b[1;33m\u001b[0m\u001b[0m\n\u001b[0m",
      "\u001b[1;31mNameError\u001b[0m: name 'obj4' is not defined"
     ]
    }
   ],
   "source": [
    "obj4.show()"
   ]
  },
  {
   "cell_type": "code",
   "execution_count": 11,
   "metadata": {},
   "outputs": [
    {
     "name": "stdout",
     "output_type": "stream",
     "text": [
      "Deletion of Object\n",
      "Deleting Course Linux\n",
      "Deleting Name Shahrukh\n",
      "Deleting Complete Object\n"
     ]
    }
   ],
   "source": [
    "del obj3"
   ]
  },
  {
   "cell_type": "code",
   "execution_count": 12,
   "metadata": {},
   "outputs": [
    {
     "name": "stdout",
     "output_type": "stream",
     "text": [
      "Deletion of Object\n",
      "Deleting Course AWS\n",
      "Deleting Name Sudarshan\n",
      "Deleting Complete Object\n"
     ]
    }
   ],
   "source": [
    "del obj2"
   ]
  },
  {
   "cell_type": "code",
   "execution_count": 13,
   "metadata": {},
   "outputs": [
    {
     "name": "stdout",
     "output_type": "stream",
     "text": [
      "Deletion of Object\n",
      "Deleting Course Python\n",
      "Deleting Name Ravi\n",
      "Deleting Complete Object\n"
     ]
    }
   ],
   "source": [
    "del obj1"
   ]
  },
  {
   "cell_type": "markdown",
   "metadata": {},
   "source": [
    "### Access Specifires"
   ]
  },
  {
   "cell_type": "code",
   "execution_count": 14,
   "metadata": {},
   "outputs": [],
   "source": [
    "class Hello:\n",
    "    x = \"Hi I am Public\"\n",
    "    _y= \"Hi I am protected\"\n",
    "    __z = \"Hi I am Private\"\n",
    "    def show(self):\n",
    "        print(f\"x--> {Hello.x}\")\n",
    "        print(f\"y--> {Hello._y}\")\n",
    "        print(f\"z--> {Hello.__z}\")\n",
    "    def change(self,x,y,z):\n",
    "        Hello.x = x\n",
    "        Hello._y = y\n",
    "        Hello.__z = z"
   ]
  },
  {
   "cell_type": "code",
   "execution_count": 15,
   "metadata": {},
   "outputs": [],
   "source": [
    "obj1 = Hello()"
   ]
  },
  {
   "cell_type": "code",
   "execution_count": 16,
   "metadata": {},
   "outputs": [
    {
     "name": "stdout",
     "output_type": "stream",
     "text": [
      "['_Hello__z', '__class__', '__delattr__', '__dict__', '__dir__', '__doc__', '__eq__', '__format__', '__ge__', '__getattribute__', '__gt__', '__hash__', '__init__', '__init_subclass__', '__le__', '__lt__', '__module__', '__ne__', '__new__', '__reduce__', '__reduce_ex__', '__repr__', '__setattr__', '__sizeof__', '__str__', '__subclasshook__', '__weakref__', '_y', 'change', 'show', 'x']\n"
     ]
    }
   ],
   "source": [
    "print(dir(obj1))"
   ]
  },
  {
   "cell_type": "code",
   "execution_count": 17,
   "metadata": {},
   "outputs": [
    {
     "name": "stdout",
     "output_type": "stream",
     "text": [
      "x--> Hi I am Public\n",
      "y--> Hi I am protected\n",
      "z--> Hi I am Private\n"
     ]
    }
   ],
   "source": [
    "obj1.show()"
   ]
  },
  {
   "cell_type": "code",
   "execution_count": 28,
   "metadata": {},
   "outputs": [],
   "source": [
    "obj1.change(\"Hello x is Changed\",\"Hello Y is Changed\",\"Hello Z is changed\")"
   ]
  },
  {
   "cell_type": "code",
   "execution_count": 29,
   "metadata": {},
   "outputs": [
    {
     "name": "stdout",
     "output_type": "stream",
     "text": [
      "x--> Hello x is Changed\n",
      "y--> Hello Y is Changed\n",
      "z--> Hello Z is changed\n"
     ]
    }
   ],
   "source": [
    "obj1.show()"
   ]
  },
  {
   "cell_type": "code",
   "execution_count": 30,
   "metadata": {},
   "outputs": [],
   "source": [
    "Hello.x=\"X is Hacked\""
   ]
  },
  {
   "cell_type": "code",
   "execution_count": 31,
   "metadata": {},
   "outputs": [],
   "source": [
    "Hello._y=\"Y is Hacked\""
   ]
  },
  {
   "cell_type": "code",
   "execution_count": 33,
   "metadata": {},
   "outputs": [],
   "source": [
    "Hello.__z = \"Z is Hacked\""
   ]
  },
  {
   "cell_type": "code",
   "execution_count": 34,
   "metadata": {},
   "outputs": [
    {
     "name": "stdout",
     "output_type": "stream",
     "text": [
      "x--> X is Hacked\n",
      "y--> Y is Hacked\n",
      "z--> Hello Z is changed\n"
     ]
    }
   ],
   "source": [
    "obj1.show()"
   ]
  },
  {
   "cell_type": "code",
   "execution_count": 35,
   "metadata": {},
   "outputs": [
    {
     "data": {
      "text/plain": [
       "'Z is Hacked'"
      ]
     },
     "execution_count": 35,
     "metadata": {},
     "output_type": "execute_result"
    }
   ],
   "source": [
    "Hello.__z"
   ]
  },
  {
   "cell_type": "code",
   "execution_count": 36,
   "metadata": {},
   "outputs": [
    {
     "name": "stdout",
     "output_type": "stream",
     "text": [
      "['_Hello__z', '__class__', '__delattr__', '__dict__', '__dir__', '__doc__', '__eq__', '__format__', '__ge__', '__getattribute__', '__gt__', '__hash__', '__init__', '__init_subclass__', '__le__', '__lt__', '__module__', '__ne__', '__new__', '__reduce__', '__reduce_ex__', '__repr__', '__setattr__', '__sizeof__', '__str__', '__subclasshook__', '__weakref__', '__z', '_y', 'change', 'show', 'x']\n"
     ]
    }
   ],
   "source": [
    "print(dir(obj1))"
   ]
  },
  {
   "cell_type": "code",
   "execution_count": 37,
   "metadata": {},
   "outputs": [
    {
     "data": {
      "text/plain": [
       "'Hello Z is changed'"
      ]
     },
     "execution_count": 37,
     "metadata": {},
     "output_type": "execute_result"
    }
   ],
   "source": [
    "Hello._Hello__z"
   ]
  },
  {
   "cell_type": "code",
   "execution_count": 41,
   "metadata": {},
   "outputs": [
    {
     "data": {
      "text/plain": [
       "True"
      ]
     },
     "execution_count": 41,
     "metadata": {},
     "output_type": "execute_result"
    }
   ],
   "source": [
    "hasattr(obj1,'_y')"
   ]
  },
  {
   "cell_type": "code",
   "execution_count": 42,
   "metadata": {},
   "outputs": [
    {
     "data": {
      "text/plain": [
       "'Y is Hacked'"
      ]
     },
     "execution_count": 42,
     "metadata": {},
     "output_type": "execute_result"
    }
   ],
   "source": [
    "getattr(obj1,\"_y\")"
   ]
  },
  {
   "cell_type": "code",
   "execution_count": 44,
   "metadata": {},
   "outputs": [
    {
     "data": {
      "text/plain": [
       "'X is Hacked'"
      ]
     },
     "execution_count": 44,
     "metadata": {},
     "output_type": "execute_result"
    }
   ],
   "source": [
    "Hello.x"
   ]
  },
  {
   "cell_type": "code",
   "execution_count": 45,
   "metadata": {},
   "outputs": [],
   "source": [
    "setattr(obj1,\"x\",\"X is changed using setattr\")"
   ]
  },
  {
   "cell_type": "code",
   "execution_count": 47,
   "metadata": {},
   "outputs": [
    {
     "data": {
      "text/plain": [
       "'X is changed using setattr'"
      ]
     },
     "execution_count": 47,
     "metadata": {},
     "output_type": "execute_result"
    }
   ],
   "source": [
    "obj1.x"
   ]
  },
  {
   "cell_type": "markdown",
   "metadata": {},
   "source": [
    "# Inheritence"
   ]
  },
  {
   "cell_type": "markdown",
   "metadata": {},
   "source": [
    "1. Single\n",
    "2. Multiple\n",
    "3. Multilevel\n",
    "4. Hierarchical\n",
    "5. Hybrid"
   ]
  },
  {
   "cell_type": "code",
   "execution_count": 55,
   "metadata": {},
   "outputs": [],
   "source": [
    "#single\n",
    "class A:\n",
    "    pass\n",
    "class B(A):\n",
    "    pass"
   ]
  },
  {
   "cell_type": "code",
   "execution_count": 56,
   "metadata": {},
   "outputs": [
    {
     "data": {
      "text/plain": [
       "True"
      ]
     },
     "execution_count": 56,
     "metadata": {},
     "output_type": "execute_result"
    }
   ],
   "source": [
    "issubclass(B,A)"
   ]
  },
  {
   "cell_type": "code",
   "execution_count": 64,
   "metadata": {},
   "outputs": [],
   "source": [
    "#single\n",
    "class Base:\n",
    "    def set_value(self):\n",
    "        self.x = 55\n",
    "class child(Base):\n",
    "    def get_value(self):\n",
    "        print(self.x)"
   ]
  },
  {
   "cell_type": "code",
   "execution_count": 61,
   "metadata": {},
   "outputs": [],
   "source": [
    "a = child()"
   ]
  },
  {
   "cell_type": "code",
   "execution_count": 62,
   "metadata": {},
   "outputs": [],
   "source": [
    "a.set_value()"
   ]
  },
  {
   "cell_type": "code",
   "execution_count": 63,
   "metadata": {},
   "outputs": [
    {
     "name": "stdout",
     "output_type": "stream",
     "text": [
      "55\n"
     ]
    }
   ],
   "source": [
    "a.get_value()"
   ]
  },
  {
   "cell_type": "code",
   "execution_count": 65,
   "metadata": {},
   "outputs": [],
   "source": [
    "#multiple inheritence\n",
    "class Base:\n",
    "    def set_value(self):\n",
    "        self.x = 55\n",
    "class Base1:\n",
    "    def set_valu(self):\n",
    "        self.y = 47\n",
    "class child(Base,Base1):\n",
    "    def get_value(self):\n",
    "        print(self.x)\n",
    "        print(self.y)"
   ]
  },
  {
   "cell_type": "code",
   "execution_count": 66,
   "metadata": {},
   "outputs": [],
   "source": [
    "obj1 = child()\n",
    "obj1.set_value()"
   ]
  },
  {
   "cell_type": "code",
   "execution_count": 67,
   "metadata": {},
   "outputs": [],
   "source": [
    "obj1.set_valu()"
   ]
  },
  {
   "cell_type": "code",
   "execution_count": 68,
   "metadata": {},
   "outputs": [
    {
     "name": "stdout",
     "output_type": "stream",
     "text": [
      "55\n",
      "47\n"
     ]
    }
   ],
   "source": [
    "obj1.get_value()"
   ]
  },
  {
   "cell_type": "code",
   "execution_count": 80,
   "metadata": {},
   "outputs": [],
   "source": [
    "class GF:\n",
    "    x=\"hi\"\n",
    "    y=\"hello\"\n",
    "    __z=\"hola\"\n",
    "class Father(GF):\n",
    "    def set_value(self):\n",
    "        self.x = \"Hello\"\n",
    "        self.y=\"heya\"\n",
    "        self.z = \"namaste\"\n",
    "class child(Father):\n",
    "    def get_value(self):\n",
    "        print(self.x)\n",
    "        print(self.y)\n",
    "        print(self.z)"
   ]
  },
  {
   "cell_type": "code",
   "execution_count": 70,
   "metadata": {},
   "outputs": [],
   "source": [
    "hey = child()"
   ]
  },
  {
   "cell_type": "code",
   "execution_count": 71,
   "metadata": {},
   "outputs": [],
   "source": [
    "hey.set_value()"
   ]
  },
  {
   "cell_type": "code",
   "execution_count": 72,
   "metadata": {},
   "outputs": [
    {
     "name": "stdout",
     "output_type": "stream",
     "text": [
      "Hello\n",
      "heya\n",
      "namaste\n"
     ]
    }
   ],
   "source": [
    "hey.get_value()"
   ]
  },
  {
   "cell_type": "code",
   "execution_count": 79,
   "metadata": {},
   "outputs": [
    {
     "data": {
      "text/plain": [
       "'hi'"
      ]
     },
     "execution_count": 79,
     "metadata": {},
     "output_type": "execute_result"
    }
   ],
   "source": [
    "child.x"
   ]
  },
  {
   "cell_type": "code",
   "execution_count": 83,
   "metadata": {},
   "outputs": [
    {
     "ename": "AttributeError",
     "evalue": "type object 'child' has no attribute '__z'",
     "output_type": "error",
     "traceback": [
      "\u001b[1;31m---------------------------------------------------------------------------\u001b[0m",
      "\u001b[1;31mAttributeError\u001b[0m                            Traceback (most recent call last)",
      "\u001b[1;32m<ipython-input-83-1ccea3a4fdfa>\u001b[0m in \u001b[0;36m<module>\u001b[1;34m\u001b[0m\n\u001b[1;32m----> 1\u001b[1;33m \u001b[0mchild\u001b[0m\u001b[1;33m.\u001b[0m\u001b[0m__z\u001b[0m\u001b[1;33m\u001b[0m\u001b[1;33m\u001b[0m\u001b[0m\n\u001b[0m",
      "\u001b[1;31mAttributeError\u001b[0m: type object 'child' has no attribute '__z'"
     ]
    }
   ],
   "source": [
    "child.__z"
   ]
  },
  {
   "cell_type": "markdown",
   "metadata": {},
   "source": [
    "Topic: Python intern batch 5_30\n",
    "Start Time : Jun 17, 2020 05:28 PM\n",
    "\n",
    "Meeting Recording:\n",
    "https://grras.zoom.us/rec/share/vpMrP5bK1j9LXYnJwxvRfpBmHLrmeaa81SQaqfZZyE2Aho5Qfbu47Calz-8IPLwY\n"
   ]
  },
  {
   "cell_type": "markdown",
   "metadata": {},
   "source": [
    "Topic: Python intern batch 5_30\n",
    "Start Time : Jun 16, 2020 05:29 PM\n",
    "\n",
    "Meeting Recording:\n",
    "https://grras.zoom.us/rec/share/y-p6LL316UJJeYHVuUX0Wq4TIoPaeaa81iMdrKUEmU_9DJp3gfuQKObu4b-NQnmt\n"
   ]
  },
  {
   "cell_type": "code",
   "execution_count": 10,
   "metadata": {},
   "outputs": [],
   "source": [
    "#overriding\n",
    "class A:\n",
    "    def show(self):\n",
    "        print(\"Hey I am Class A\")\n",
    "class B(A):\n",
    "    def show(self):\n",
    "        print(\"Hey I am Class B\")\n",
    "    def __str__(self):\n",
    "        return \"Hello World\""
   ]
  },
  {
   "cell_type": "code",
   "execution_count": 11,
   "metadata": {},
   "outputs": [],
   "source": [
    "obj1 = B()"
   ]
  },
  {
   "cell_type": "code",
   "execution_count": 12,
   "metadata": {},
   "outputs": [
    {
     "name": "stdout",
     "output_type": "stream",
     "text": [
      "Hey I am Class B\n"
     ]
    }
   ],
   "source": [
    "obj1.show()"
   ]
  },
  {
   "cell_type": "code",
   "execution_count": 13,
   "metadata": {},
   "outputs": [
    {
     "name": "stdout",
     "output_type": "stream",
     "text": [
      "Hello World\n"
     ]
    }
   ],
   "source": [
    "print(obj1)"
   ]
  },
  {
   "cell_type": "code",
   "execution_count": 14,
   "metadata": {},
   "outputs": [],
   "source": [
    "#operator Overloading"
   ]
  },
  {
   "cell_type": "code",
   "execution_count": 15,
   "metadata": {},
   "outputs": [],
   "source": [
    "class Vector:\n",
    "    def __init__(self,x,y):\n",
    "        self.x = x\n",
    "        self.y = y\n",
    "    def __add__(self,obj):\n",
    "        x = self.x+obj.x\n",
    "        y = self.y+obj.y\n",
    "        return Vector(x,y)\n",
    "    def __str__(self):\n",
    "        return f\"Vector ({self.x},{self.y})\""
   ]
  },
  {
   "cell_type": "code",
   "execution_count": 16,
   "metadata": {},
   "outputs": [],
   "source": [
    "obj1 = Vector(44,33)\n",
    "obj2 = Vector(2,1)"
   ]
  },
  {
   "cell_type": "code",
   "execution_count": 19,
   "metadata": {},
   "outputs": [
    {
     "name": "stdout",
     "output_type": "stream",
     "text": [
      "Vector (46,34)\n"
     ]
    }
   ],
   "source": [
    "print(obj1+obj2)"
   ]
  },
  {
   "cell_type": "code",
   "execution_count": 20,
   "metadata": {},
   "outputs": [],
   "source": [
    "class Myclass:\n",
    "    x = \"Hi I am class Variable\"\n",
    "    def method1(self):\n",
    "        self.y = 0\n",
    "        pass\n",
    "    def method2(self):\n",
    "        pass\n",
    "    def method3(self):\n",
    "        pass\n",
    "obj1 = Myclass()\n",
    "obj2 = Myclass()\n",
    "obj1.method1()\n",
    "obj2.method3()"
   ]
  },
  {
   "cell_type": "code",
   "execution_count": 21,
   "metadata": {},
   "outputs": [
    {
     "data": {
      "text/plain": [
       "0"
      ]
     },
     "execution_count": 21,
     "metadata": {},
     "output_type": "execute_result"
    }
   ],
   "source": [
    "obj1.y"
   ]
  },
  {
   "cell_type": "code",
   "execution_count": 22,
   "metadata": {},
   "outputs": [
    {
     "data": {
      "text/plain": [
       "'Hi I am class Variable'"
      ]
     },
     "execution_count": 22,
     "metadata": {},
     "output_type": "execute_result"
    }
   ],
   "source": [
    "obj1.x"
   ]
  },
  {
   "cell_type": "code",
   "execution_count": 23,
   "metadata": {},
   "outputs": [],
   "source": [
    "class Robot:\n",
    "    common = \"Hi I am Common to all Robots\"\n",
    "    def __init__(self,name,work):\n",
    "        self.name=name\n",
    "        self.work=work\n",
    "    def show(self):\n",
    "        print(\"Name = \",self.name)\n",
    "        print(\"Work =\",self.work)\n",
    "    def common_msg(self):\n",
    "        print(\"Common Message\",Robot.common)\n",
    "    def send_msg(self,msg):\n",
    "        Robot.common=msg"
   ]
  },
  {
   "cell_type": "code",
   "execution_count": 24,
   "metadata": {},
   "outputs": [],
   "source": [
    "robot1 = Robot(\"John\",\"Singer\")\n",
    "robot2 = Robot(\"Dipshi\",\"Programmer\")"
   ]
  },
  {
   "cell_type": "code",
   "execution_count": 25,
   "metadata": {},
   "outputs": [
    {
     "name": "stdout",
     "output_type": "stream",
     "text": [
      "Common Message Hi I am Common to all Robots\n"
     ]
    }
   ],
   "source": [
    "robot1.common_msg()"
   ]
  },
  {
   "cell_type": "code",
   "execution_count": 26,
   "metadata": {},
   "outputs": [
    {
     "name": "stdout",
     "output_type": "stream",
     "text": [
      "Name =  John\n",
      "Work = Singer\n"
     ]
    }
   ],
   "source": [
    "robot1.show()"
   ]
  },
  {
   "cell_type": "code",
   "execution_count": 27,
   "metadata": {},
   "outputs": [
    {
     "name": "stdout",
     "output_type": "stream",
     "text": [
      "Common Message Hi I am Common to all Robots\n"
     ]
    }
   ],
   "source": [
    "robot2.common_msg()"
   ]
  },
  {
   "cell_type": "code",
   "execution_count": 28,
   "metadata": {},
   "outputs": [],
   "source": [
    "robot1.send_msg(\"Hey I am Robot 1\")"
   ]
  },
  {
   "cell_type": "code",
   "execution_count": 30,
   "metadata": {},
   "outputs": [
    {
     "name": "stdout",
     "output_type": "stream",
     "text": [
      "Common Message Hey I am Robot 1\n"
     ]
    }
   ],
   "source": [
    "robot1.common_msg()"
   ]
  },
  {
   "cell_type": "code",
   "execution_count": 31,
   "metadata": {},
   "outputs": [
    {
     "name": "stdout",
     "output_type": "stream",
     "text": [
      "Common Message Hey I am Robot 1\n"
     ]
    }
   ],
   "source": [
    "robot2.common_msg()"
   ]
  },
  {
   "cell_type": "code",
   "execution_count": 33,
   "metadata": {},
   "outputs": [
    {
     "data": {
      "text/plain": [
       "'Hey I am Robot 1'"
      ]
     },
     "execution_count": 33,
     "metadata": {},
     "output_type": "execute_result"
    }
   ],
   "source": [
    "Robot.common"
   ]
  },
  {
   "cell_type": "code",
   "execution_count": 34,
   "metadata": {},
   "outputs": [
    {
     "name": "stdout",
     "output_type": "stream",
     "text": [
      "Name =  Dipshi\n",
      "Work = Programmer\n"
     ]
    }
   ],
   "source": [
    "robot2.show()"
   ]
  },
  {
   "cell_type": "code",
   "execution_count": 35,
   "metadata": {},
   "outputs": [],
   "source": [
    "class Person:\n",
    "    def entry(self,name,work):\n",
    "        self.name =name\n",
    "        self.work = work\n",
    "    def show(self):\n",
    "        print(\"Name -->\",self.name)\n",
    "        print(\"Work -->\",self.work)"
   ]
  },
  {
   "cell_type": "code",
   "execution_count": 36,
   "metadata": {},
   "outputs": [],
   "source": [
    "p1 = Person()\n",
    "p2 = Person()"
   ]
  },
  {
   "cell_type": "code",
   "execution_count": 37,
   "metadata": {},
   "outputs": [
    {
     "name": "stdout",
     "output_type": "stream",
     "text": [
      "Name --> Ravi\n",
      "Work --> Trainer\n",
      "Name --> Yogesh\n",
      "Work --> Accountent\n"
     ]
    }
   ],
   "source": [
    "p1.entry('Ravi','Trainer')\n",
    "p2.entry('Yogesh','Accountent')\n",
    "p1.show()\n",
    "p2.show()"
   ]
  },
  {
   "cell_type": "code",
   "execution_count": 38,
   "metadata": {},
   "outputs": [],
   "source": [
    "class Human(Person):\n",
    "    def __init__(self,name,work):\n",
    "        super().entry(name,work) "
   ]
  },
  {
   "cell_type": "code",
   "execution_count": 40,
   "metadata": {},
   "outputs": [],
   "source": [
    "p1 = Human('Ravi','Trainer')\n",
    "p2 = Human('Yogesh','Accountent')"
   ]
  },
  {
   "cell_type": "code",
   "execution_count": 42,
   "metadata": {},
   "outputs": [
    {
     "name": "stdout",
     "output_type": "stream",
     "text": [
      "Name --> Ravi\n",
      "Work --> Trainer\n",
      "\n",
      "Name --> Yogesh\n",
      "Work --> Accountent\n"
     ]
    }
   ],
   "source": [
    "p1.show()\n",
    "print()\n",
    "p2.show()"
   ]
  },
  {
   "cell_type": "code",
   "execution_count": 43,
   "metadata": {},
   "outputs": [],
   "source": [
    "class Car:\n",
    "    name = \"CAR\"\n",
    "    def __init__(self,model,brand,color):\n",
    "        self.model = model\n",
    "        self.brand = brand\n",
    "        self.color = color\n",
    "    def show(self):\n",
    "        print(f\"Brand = {self.brand}\")\n",
    "        print(f\"Model = {self.model}\")\n",
    "        print(f\"Color = {self.color}\")\n",
    "    def change(self,m,b,c):\n",
    "        self.model=m\n",
    "        self.brand=b\n",
    "        self.color=c\n",
    "    def __str__(self):\n",
    "        return f\"Hi I am {self.name}\""
   ]
  },
  {
   "cell_type": "code",
   "execution_count": 44,
   "metadata": {},
   "outputs": [],
   "source": [
    "nano = Car(2018,'TATA','Yellow')\n",
    "swift = Car(2019,'Maruti_Suzuki','White')"
   ]
  },
  {
   "cell_type": "code",
   "execution_count": 45,
   "metadata": {},
   "outputs": [
    {
     "name": "stdout",
     "output_type": "stream",
     "text": [
      "Brand = TATA\n",
      "Model = 2018\n",
      "Color = Yellow\n"
     ]
    }
   ],
   "source": [
    "nano.show()"
   ]
  },
  {
   "cell_type": "code",
   "execution_count": 46,
   "metadata": {},
   "outputs": [
    {
     "name": "stdout",
     "output_type": "stream",
     "text": [
      "Brand = Maruti_Suzuki\n",
      "Model = 2019\n",
      "Color = White\n"
     ]
    }
   ],
   "source": [
    "swift.show()"
   ]
  },
  {
   "cell_type": "code",
   "execution_count": 51,
   "metadata": {},
   "outputs": [],
   "source": [
    "nano.change(2016,'Maruti_Suzuki',\"Blue\")"
   ]
  },
  {
   "cell_type": "code",
   "execution_count": 52,
   "metadata": {},
   "outputs": [
    {
     "name": "stdout",
     "output_type": "stream",
     "text": [
      "Brand = Maruti_Suzuki\n",
      "Model = 2016\n",
      "Color = Blue\n"
     ]
    }
   ],
   "source": [
    "nano.show()"
   ]
  },
  {
   "cell_type": "code",
   "execution_count": 53,
   "metadata": {},
   "outputs": [
    {
     "name": "stdout",
     "output_type": "stream",
     "text": [
      "Hi I am CAR\n"
     ]
    }
   ],
   "source": [
    "print(nano)"
   ]
  },
  {
   "cell_type": "code",
   "execution_count": 54,
   "metadata": {},
   "outputs": [
    {
     "name": "stdout",
     "output_type": "stream",
     "text": [
      "Hi I am CAR\n"
     ]
    }
   ],
   "source": [
    "print(swift)"
   ]
  },
  {
   "cell_type": "code",
   "execution_count": 55,
   "metadata": {},
   "outputs": [
    {
     "name": "stdout",
     "output_type": "stream",
     "text": [
      "['__class__', '__delattr__', '__dict__', '__dir__', '__doc__', '__eq__', '__format__', '__ge__', '__getattribute__', '__gt__', '__hash__', '__init__', '__init_subclass__', '__le__', '__lt__', '__module__', '__ne__', '__new__', '__reduce__', '__reduce_ex__', '__repr__', '__setattr__', '__sizeof__', '__str__', '__subclasshook__', '__weakref__', 'brand', 'change', 'color', 'model', 'name', 'show']\n"
     ]
    }
   ],
   "source": [
    "print(dir(nano))"
   ]
  },
  {
   "cell_type": "code",
   "execution_count": 56,
   "metadata": {},
   "outputs": [],
   "source": [
    "s = \"h\""
   ]
  },
  {
   "cell_type": "code",
   "execution_count": 58,
   "metadata": {},
   "outputs": [
    {
     "data": {
      "text/plain": [
       "'Return a copy of the string converted to uppercase.'"
      ]
     },
     "execution_count": 58,
     "metadata": {},
     "output_type": "execute_result"
    }
   ],
   "source": [
    "s.upper.__doc__"
   ]
  },
  {
   "cell_type": "code",
   "execution_count": null,
   "metadata": {},
   "outputs": [],
   "source": [
    "s.upper()"
   ]
  },
  {
   "cell_type": "code",
   "execution_count": 60,
   "metadata": {},
   "outputs": [
    {
     "data": {
      "text/plain": [
       "{'model': 2016, 'brand': 'Maruti_Suzuki', 'color': 'Blue'}"
      ]
     },
     "execution_count": 60,
     "metadata": {},
     "output_type": "execute_result"
    }
   ],
   "source": [
    "nano.__dict__"
   ]
  },
  {
   "cell_type": "code",
   "execution_count": 61,
   "metadata": {},
   "outputs": [
    {
     "data": {
      "text/plain": [
       "{'model': 2019, 'brand': 'Maruti_Suzuki', 'color': 'White'}"
      ]
     },
     "execution_count": 61,
     "metadata": {},
     "output_type": "execute_result"
    }
   ],
   "source": [
    "swift.__dict__"
   ]
  },
  {
   "cell_type": "code",
   "execution_count": 62,
   "metadata": {},
   "outputs": [
    {
     "data": {
      "text/plain": [
       "mappingproxy({'__module__': '__main__',\n",
       "              'name': 'CAR',\n",
       "              '__init__': <function __main__.Car.__init__(self, model, brand, color)>,\n",
       "              'show': <function __main__.Car.show(self)>,\n",
       "              'change': <function __main__.Car.change(self, m, b, c)>,\n",
       "              '__str__': <function __main__.Car.__str__(self)>,\n",
       "              '__dict__': <attribute '__dict__' of 'Car' objects>,\n",
       "              '__weakref__': <attribute '__weakref__' of 'Car' objects>,\n",
       "              '__doc__': None})"
      ]
     },
     "execution_count": 62,
     "metadata": {},
     "output_type": "execute_result"
    }
   ],
   "source": [
    "Car.__dict__"
   ]
  },
  {
   "cell_type": "code",
   "execution_count": 76,
   "metadata": {},
   "outputs": [],
   "source": [
    "class Poly:\n",
    "    def __init__(self,no_of_sides):\n",
    "        self.n = no_of_sides\n",
    "        self.sides = [0 for var in range(no_of_sides)]\n",
    "    def name(self):\n",
    "        if self.n == 3:\n",
    "            print(\"Hi I am Triangle\")\n",
    "        elif self.n ==4:\n",
    "            print(\"Hi I am Quardrilateral\")\n",
    "        elif self.n == 5:\n",
    "            print(\"Hi I am Pentagon\")\n",
    "        elif self.n == 6:\n",
    "            print(\"Hi I  am Hexagon\")\n",
    "        else:\n",
    "            print(f\"Hi I am Polygon with {self.n} sides \")\n",
    "    def show_sides(self):\n",
    "        c = 1\n",
    "        print()\n",
    "        self.name()\n",
    "        print()\n",
    "        for side in self.sides:\n",
    "            print(f\"Sides {c} : {side} \")\n",
    "            c = c+1\n",
    "    def init_sides(self):\n",
    "        print()\n",
    "        self.name()\n",
    "        print()\n",
    "        self.sides = [ float(input(\"side{var} : \")) for var in range(1,self.n+1)]"
   ]
  },
  {
   "cell_type": "code",
   "execution_count": 77,
   "metadata": {},
   "outputs": [],
   "source": [
    "triangle = Poly(3)\n",
    "square = Poly(4)\n",
    "hexagon = Poly(6)"
   ]
  },
  {
   "cell_type": "code",
   "execution_count": 78,
   "metadata": {},
   "outputs": [
    {
     "name": "stdout",
     "output_type": "stream",
     "text": [
      "Hi I am Triangle\n",
      "Hi I am Quardrilateral\n",
      "Hi I  am Hexagon\n"
     ]
    }
   ],
   "source": [
    "triangle.name()\n",
    "square.name()\n",
    "hexagon.name()"
   ]
  },
  {
   "cell_type": "code",
   "execution_count": 79,
   "metadata": {},
   "outputs": [
    {
     "name": "stdout",
     "output_type": "stream",
     "text": [
      "\n",
      "Hi I am Triangle\n",
      "\n",
      "Sides 1 : 0 \n",
      "Sides 2 : 0 \n",
      "Sides 3 : 0 \n",
      "\n",
      "Hi I am Quardrilateral\n",
      "\n",
      "Sides 1 : 0 \n",
      "Sides 2 : 0 \n",
      "Sides 3 : 0 \n",
      "Sides 4 : 0 \n",
      "\n",
      "Hi I  am Hexagon\n",
      "\n",
      "Sides 1 : 0 \n",
      "Sides 2 : 0 \n",
      "Sides 3 : 0 \n",
      "Sides 4 : 0 \n",
      "Sides 5 : 0 \n",
      "Sides 6 : 0 \n"
     ]
    }
   ],
   "source": [
    "triangle.show_sides()\n",
    "square.show_sides()\n",
    "hexagon.show_sides()"
   ]
  },
  {
   "cell_type": "code",
   "execution_count": 80,
   "metadata": {},
   "outputs": [
    {
     "name": "stdout",
     "output_type": "stream",
     "text": [
      "\n",
      "Hi I am Triangle\n",
      "\n",
      "side{var} : 3\n",
      "side{var} : 5\n",
      "side{var} : 6\n",
      "\n",
      "Hi I am Quardrilateral\n",
      "\n",
      "side{var} : 7\n",
      "side{var} : 6\n",
      "side{var} : 4\n",
      "side{var} : 6\n",
      "\n",
      "Hi I  am Hexagon\n",
      "\n",
      "side{var} : 8\n",
      "side{var} : 7\n",
      "side{var} : 6\n",
      "side{var} : 7\n",
      "side{var} : 8\n",
      "side{var} : 9\n"
     ]
    }
   ],
   "source": [
    "triangle.init_sides()\n",
    "square.init_sides()\n",
    "hexagon.init_sides()"
   ]
  },
  {
   "cell_type": "code",
   "execution_count": 81,
   "metadata": {},
   "outputs": [
    {
     "name": "stdout",
     "output_type": "stream",
     "text": [
      "\n",
      "Hi I am Triangle\n",
      "\n",
      "Sides 1 : 3.0 \n",
      "Sides 2 : 5.0 \n",
      "Sides 3 : 6.0 \n",
      "\n",
      "Hi I am Quardrilateral\n",
      "\n",
      "Sides 1 : 7.0 \n",
      "Sides 2 : 6.0 \n",
      "Sides 3 : 4.0 \n",
      "Sides 4 : 6.0 \n",
      "\n",
      "Hi I  am Hexagon\n",
      "\n",
      "Sides 1 : 8.0 \n",
      "Sides 2 : 7.0 \n",
      "Sides 3 : 6.0 \n",
      "Sides 4 : 7.0 \n",
      "Sides 5 : 8.0 \n",
      "Sides 6 : 9.0 \n"
     ]
    }
   ],
   "source": [
    "triangle.show_sides()\n",
    "square.show_sides()\n",
    "hexagon.show_sides()"
   ]
  },
  {
   "cell_type": "code",
   "execution_count": 82,
   "metadata": {},
   "outputs": [],
   "source": [
    "class Area(Poly):\n",
    "    pass\n",
    "    \"\"\"H.W!!! Your code Goes Here\"\"\""
   ]
  },
  {
   "cell_type": "code",
   "execution_count": 83,
   "metadata": {},
   "outputs": [],
   "source": [
    "class comp:\n",
    "    def __init__(self,x,y):\n",
    "        self.real = x\n",
    "        self.image = y\n",
    "    def __add__(self,obj):\n",
    "        x = self.real + obj.real\n",
    "        y = self.image + obj.image\n",
    "        return comp(x,y)\n",
    "    def __str__(self):\n",
    "        return f\"{self.real}+{self.image}j\""
   ]
  },
  {
   "cell_type": "code",
   "execution_count": 85,
   "metadata": {},
   "outputs": [
    {
     "name": "stdout",
     "output_type": "stream",
     "text": [
      "3+6j\n",
      "3+3j\n"
     ]
    }
   ],
   "source": [
    "c1 = comp(3,6)\n",
    "c2 = comp(3,3)\n",
    "print(c1)\n",
    "print(c2)"
   ]
  },
  {
   "cell_type": "code",
   "execution_count": 86,
   "metadata": {},
   "outputs": [
    {
     "name": "stdout",
     "output_type": "stream",
     "text": [
      "6+9j\n"
     ]
    }
   ],
   "source": [
    "x = c1+c2\n",
    "print(x)"
   ]
  },
  {
   "cell_type": "code",
   "execution_count": 87,
   "metadata": {},
   "outputs": [
    {
     "name": "stdout",
     "output_type": "stream",
     "text": [
      "(6+9j)\n"
     ]
    }
   ],
   "source": [
    "x = 3+6j\n",
    "y = 3+3j\n",
    "print(x+y)"
   ]
  },
  {
   "cell_type": "markdown",
   "metadata": {},
   "source": [
    "# Abstract Class"
   ]
  },
  {
   "cell_type": "code",
   "execution_count": 90,
   "metadata": {},
   "outputs": [],
   "source": [
    "from abc import ABC, abstractmethod\n",
    "class Computer(ABC):\n",
    "    @abstractmethod\n",
    "    def Laptop(self):\n",
    "        pass"
   ]
  },
  {
   "cell_type": "code",
   "execution_count": 91,
   "metadata": {},
   "outputs": [],
   "source": [
    "class Ploygon(ABC):\n",
    "    @abstractmethod\n",
    "    def sides(self):\n",
    "        pass\n",
    "class Triangle(Ploygon):\n",
    "    def sides(self):\n",
    "        print(\"I have 3 sides\")\n",
    "class quardilateral(Ploygon):\n",
    "    def sides(self):\n",
    "        print(\"I have 4 sides\")\n",
    "class pentagon(Ploygon):\n",
    "    def sides(self):\n",
    "        print(\"I have 5 sides\")\n",
    "class hexagon(Ploygon):\n",
    "    def sides(self):\n",
    "        print(\"I have 6 sides\")"
   ]
  },
  {
   "cell_type": "code",
   "execution_count": 92,
   "metadata": {},
   "outputs": [],
   "source": [
    "triangle = Triangle()"
   ]
  },
  {
   "cell_type": "code",
   "execution_count": 93,
   "metadata": {},
   "outputs": [
    {
     "name": "stdout",
     "output_type": "stream",
     "text": [
      "I have 3 sides\n"
     ]
    }
   ],
   "source": [
    "triangle.sides()"
   ]
  },
  {
   "cell_type": "code",
   "execution_count": 95,
   "metadata": {},
   "outputs": [
    {
     "name": "stdout",
     "output_type": "stream",
     "text": [
      "I have 5 sides\n"
     ]
    }
   ],
   "source": [
    "d = pentagon()\n",
    "d.sides()"
   ]
  },
  {
   "cell_type": "code",
   "execution_count": 96,
   "metadata": {},
   "outputs": [
    {
     "name": "stdout",
     "output_type": "stream",
     "text": [
      "I have 6 sides\n"
     ]
    }
   ],
   "source": [
    "i = hexagon()\n",
    "i.sides()"
   ]
  },
  {
   "cell_type": "code",
   "execution_count": null,
   "metadata": {},
   "outputs": [],
   "source": []
  }
 ],
 "metadata": {
  "kernelspec": {
   "display_name": "Python 3",
   "language": "python",
   "name": "python3"
  },
  "language_info": {
   "codemirror_mode": {
    "name": "ipython",
    "version": 3
   },
   "file_extension": ".py",
   "mimetype": "text/x-python",
   "name": "python",
   "nbconvert_exporter": "python",
   "pygments_lexer": "ipython3",
   "version": "3.7.6"
  }
 },
 "nbformat": 4,
 "nbformat_minor": 4
}
