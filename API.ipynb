{
 "cells": [
  {
   "cell_type": "markdown",
   "metadata": {},
   "source": [
    "# Application Programming Interface"
   ]
  },
  {
   "cell_type": "markdown",
   "metadata": {},
   "source": [
    "# NYT"
   ]
  },
  {
   "cell_type": "code",
   "execution_count": 2,
   "metadata": {},
   "outputs": [],
   "source": [
    "import requests"
   ]
  },
  {
   "cell_type": "code",
   "execution_count": 4,
   "metadata": {},
   "outputs": [],
   "source": [
    "url = \"https://api.nytimes.com/svc/movies/v2/reviews/search.json?query=\""
   ]
  },
  {
   "cell_type": "code",
   "execution_count": 5,
   "metadata": {},
   "outputs": [
    {
     "name": "stdout",
     "output_type": "stream",
     "text": [
      "Enter a movie name --> Iron Man\n"
     ]
    }
   ],
   "source": [
    "movie = input(\"Enter a movie name --> \")"
   ]
  },
  {
   "cell_type": "code",
   "execution_count": 6,
   "metadata": {},
   "outputs": [],
   "source": [
    "key = \"TV104eCokTHOP2wnXvbxM0qbR8T753Qo\""
   ]
  },
  {
   "cell_type": "code",
   "execution_count": 7,
   "metadata": {},
   "outputs": [],
   "source": [
    "final_url=url+movie+\"&api-key=\"+key"
   ]
  },
  {
   "cell_type": "code",
   "execution_count": 8,
   "metadata": {},
   "outputs": [
    {
     "name": "stdout",
     "output_type": "stream",
     "text": [
      "https://api.nytimes.com/svc/movies/v2/reviews/search.json?query=Iron Man&api-key=TV104eCokTHOP2wnXvbxM0qbR8T753Qo\n"
     ]
    }
   ],
   "source": [
    "print(final_url)"
   ]
  },
  {
   "cell_type": "code",
   "execution_count": 9,
   "metadata": {},
   "outputs": [],
   "source": [
    "data = requests.get(final_url)"
   ]
  },
  {
   "cell_type": "code",
   "execution_count": 10,
   "metadata": {},
   "outputs": [
    {
     "data": {
      "text/plain": [
       "200"
      ]
     },
     "execution_count": 10,
     "metadata": {},
     "output_type": "execute_result"
    }
   ],
   "source": [
    "data.status_code"
   ]
  },
  {
   "cell_type": "code",
   "execution_count": 11,
   "metadata": {},
   "outputs": [
    {
     "data": {
      "text/plain": [
       "'{\"status\":\"OK\",\"copyright\":\"Copyright (c) 2020 The New York Times Company. All Rights Reserved.\",\"has_more\":false,\"num_results\":4,\"results\":[{\"display_title\":\"Iron Man 3\",\"mpaa_rating\":\"PG-13\",\"critics_pick\":0,\"byline\":\"MANOHLA DARGIS\",\"headline\":\"Bang, Boom: Terrorism as a Game\",\"summary_short\":\"\\\\u201cIron Man 3,\\\\u201d with all its explosions so soon after the Boston Marathon bombings, underscores just how thoroughly terrorism and its aftermath have been colonized by the movies.\",\"publication_date\":\"2013-05-02\",\"opening_date\":\"2013-05-03\",\"date_updated\":\"2017-11-02 04:18:16\",\"link\":{\"type\":\"article\",\"url\":\"http:\\\\/\\\\/www.nytimes.com\\\\/2013\\\\/05\\\\/03\\\\/movies\\\\/iron-man-3-with-robert-downey-jr.html\",\"suggested_link_text\":\"Read the New York Times Review of Iron Man 3\"},\"multimedia\":null},{\"display_title\":\"Iron Man 2\",\"mpaa_rating\":\"PG-13\",\"critics_pick\":0,\"byline\":\"A. O. SCOTT\",\"headline\":\"The Man in the Iron Irony\",\"summary_short\":\"The superhero sequel \\\\u201cIron Man 2\\\\u201d has been turned over to its game and gifted cast: Robert Downey Jr., Gwyneth Paltrow, Mickey Rourke, Scarlett Johansson and Samuel L. Jackson.\",\"publication_date\":\"2010-05-06\",\"opening_date\":\"2010-05-07\",\"date_updated\":\"2017-11-02 04:18:11\",\"link\":{\"type\":\"article\",\"url\":\"http:\\\\/\\\\/www.nytimes.com\\\\/2010\\\\/05\\\\/07\\\\/movies\\\\/07iron.html\",\"suggested_link_text\":\"Read the New York Times Review of Iron Man 2\"},\"multimedia\":null},{\"display_title\":\"Iron Man\",\"mpaa_rating\":\"PG-13\",\"critics_pick\":0,\"byline\":\"A. O. SCOTT\",\"headline\":\"Heavy Suit, Light Touches\",\"summary_short\":\"\\\\u201cIron Man\\\\u201d is an unusually good superhero picture. Or at least \\\\u2014 since it certainly has its problems \\\\u2014 a superhero movie that\\\\u2019s good in unusual ways.\",\"publication_date\":\"2008-05-02\",\"opening_date\":\"2008-05-02\",\"date_updated\":\"2017-11-02 04:18:07\",\"link\":{\"type\":\"article\",\"url\":\"http:\\\\/\\\\/www.nytimes.com\\\\/2008\\\\/05\\\\/02\\\\/movies\\\\/02iron.html\",\"suggested_link_text\":\"Read the New York Times Review of Iron Man\"},\"multimedia\":null},{\"display_title\":\"Tetsuo: The Iron Man\",\"mpaa_rating\":\"Not Rated\",\"critics_pick\":0,\"byline\":\"STEPHEN HOLDEN\",\"headline\":\"TETSUO: THE IRON MAN (MOVIE)\",\"summary_short\":\"\",\"publication_date\":\"1992-04-22\",\"opening_date\":null,\"date_updated\":\"2017-11-02 04:16:09\",\"link\":{\"type\":\"article\",\"url\":\"http:\\\\/\\\\/www.nytimes.com\\\\/1992\\\\/04\\\\/22\\\\/movies\\\\/review-film-forgoing-the-flesh-for-metallic-pleasures.html\",\"suggested_link_text\":\"Read the New York Times Review of Tetsuo: The Iron Man\"},\"multimedia\":null}]}'"
      ]
     },
     "execution_count": 11,
     "metadata": {},
     "output_type": "execute_result"
    }
   ],
   "source": [
    "data.text"
   ]
  },
  {
   "cell_type": "code",
   "execution_count": 13,
   "metadata": {},
   "outputs": [],
   "source": [
    "data=data.json()"
   ]
  },
  {
   "cell_type": "code",
   "execution_count": 17,
   "metadata": {},
   "outputs": [
    {
     "name": "stdout",
     "output_type": "stream",
     "text": [
      "{'copyright': 'Copyright (c) 2020 The New York Times Company. All Rights '\n",
      "              'Reserved.',\n",
      " 'has_more': False,\n",
      " 'num_results': 4,\n",
      " 'results': [{'byline': 'MANOHLA DARGIS',\n",
      "              'critics_pick': 0,\n",
      "              'date_updated': '2017-11-02 04:18:16',\n",
      "              'display_title': 'Iron Man 3',\n",
      "              'headline': 'Bang, Boom: Terrorism as a Game',\n",
      "              'link': {'suggested_link_text': 'Read the New York Times Review '\n",
      "                                              'of Iron Man 3',\n",
      "                       'type': 'article',\n",
      "                       'url': 'http://www.nytimes.com/2013/05/03/movies/iron-man-3-with-robert-downey-jr.html'},\n",
      "              'mpaa_rating': 'PG-13',\n",
      "              'multimedia': None,\n",
      "              'opening_date': '2013-05-03',\n",
      "              'publication_date': '2013-05-02',\n",
      "              'summary_short': '“Iron Man 3,” with all its explosions so soon '\n",
      "                               'after the Boston Marathon bombings, '\n",
      "                               'underscores just how thoroughly terrorism and '\n",
      "                               'its aftermath have been colonized by the '\n",
      "                               'movies.'},\n",
      "             {'byline': 'A. O. SCOTT',\n",
      "              'critics_pick': 0,\n",
      "              'date_updated': '2017-11-02 04:18:11',\n",
      "              'display_title': 'Iron Man 2',\n",
      "              'headline': 'The Man in the Iron Irony',\n",
      "              'link': {'suggested_link_text': 'Read the New York Times Review '\n",
      "                                              'of Iron Man 2',\n",
      "                       'type': 'article',\n",
      "                       'url': 'http://www.nytimes.com/2010/05/07/movies/07iron.html'},\n",
      "              'mpaa_rating': 'PG-13',\n",
      "              'multimedia': None,\n",
      "              'opening_date': '2010-05-07',\n",
      "              'publication_date': '2010-05-06',\n",
      "              'summary_short': 'The superhero sequel “Iron Man 2” has been '\n",
      "                               'turned over to its game and gifted cast: '\n",
      "                               'Robert Downey Jr., Gwyneth Paltrow, Mickey '\n",
      "                               'Rourke, Scarlett Johansson and Samuel L. '\n",
      "                               'Jackson.'},\n",
      "             {'byline': 'A. O. SCOTT',\n",
      "              'critics_pick': 0,\n",
      "              'date_updated': '2017-11-02 04:18:07',\n",
      "              'display_title': 'Iron Man',\n",
      "              'headline': 'Heavy Suit, Light Touches',\n",
      "              'link': {'suggested_link_text': 'Read the New York Times Review '\n",
      "                                              'of Iron Man',\n",
      "                       'type': 'article',\n",
      "                       'url': 'http://www.nytimes.com/2008/05/02/movies/02iron.html'},\n",
      "              'mpaa_rating': 'PG-13',\n",
      "              'multimedia': None,\n",
      "              'opening_date': '2008-05-02',\n",
      "              'publication_date': '2008-05-02',\n",
      "              'summary_short': '“Iron Man” is an unusually good superhero '\n",
      "                               'picture. Or at least — since it certainly has '\n",
      "                               'its problems — a superhero movie that’s good '\n",
      "                               'in unusual ways.'},\n",
      "             {'byline': 'STEPHEN HOLDEN',\n",
      "              'critics_pick': 0,\n",
      "              'date_updated': '2017-11-02 04:16:09',\n",
      "              'display_title': 'Tetsuo: The Iron Man',\n",
      "              'headline': 'TETSUO: THE IRON MAN (MOVIE)',\n",
      "              'link': {'suggested_link_text': 'Read the New York Times Review '\n",
      "                                              'of Tetsuo: The Iron Man',\n",
      "                       'type': 'article',\n",
      "                       'url': 'http://www.nytimes.com/1992/04/22/movies/review-film-forgoing-the-flesh-for-metallic-pleasures.html'},\n",
      "              'mpaa_rating': 'Not Rated',\n",
      "              'multimedia': None,\n",
      "              'opening_date': None,\n",
      "              'publication_date': '1992-04-22',\n",
      "              'summary_short': ''}],\n",
      " 'status': 'OK'}\n"
     ]
    }
   ],
   "source": [
    "from pprint import pprint\n",
    "pprint(data)"
   ]
  },
  {
   "cell_type": "code",
   "execution_count": 18,
   "metadata": {},
   "outputs": [
    {
     "data": {
      "text/plain": [
       "{'status': 'OK',\n",
       " 'copyright': 'Copyright (c) 2020 The New York Times Company. All Rights Reserved.',\n",
       " 'has_more': False,\n",
       " 'num_results': 4,\n",
       " 'results': [{'display_title': 'Iron Man 3',\n",
       "   'mpaa_rating': 'PG-13',\n",
       "   'critics_pick': 0,\n",
       "   'byline': 'MANOHLA DARGIS',\n",
       "   'headline': 'Bang, Boom: Terrorism as a Game',\n",
       "   'summary_short': '“Iron Man 3,” with all its explosions so soon after the Boston Marathon bombings, underscores just how thoroughly terrorism and its aftermath have been colonized by the movies.',\n",
       "   'publication_date': '2013-05-02',\n",
       "   'opening_date': '2013-05-03',\n",
       "   'date_updated': '2017-11-02 04:18:16',\n",
       "   'link': {'type': 'article',\n",
       "    'url': 'http://www.nytimes.com/2013/05/03/movies/iron-man-3-with-robert-downey-jr.html',\n",
       "    'suggested_link_text': 'Read the New York Times Review of Iron Man 3'},\n",
       "   'multimedia': None},\n",
       "  {'display_title': 'Iron Man 2',\n",
       "   'mpaa_rating': 'PG-13',\n",
       "   'critics_pick': 0,\n",
       "   'byline': 'A. O. SCOTT',\n",
       "   'headline': 'The Man in the Iron Irony',\n",
       "   'summary_short': 'The superhero sequel “Iron Man 2” has been turned over to its game and gifted cast: Robert Downey Jr., Gwyneth Paltrow, Mickey Rourke, Scarlett Johansson and Samuel L. Jackson.',\n",
       "   'publication_date': '2010-05-06',\n",
       "   'opening_date': '2010-05-07',\n",
       "   'date_updated': '2017-11-02 04:18:11',\n",
       "   'link': {'type': 'article',\n",
       "    'url': 'http://www.nytimes.com/2010/05/07/movies/07iron.html',\n",
       "    'suggested_link_text': 'Read the New York Times Review of Iron Man 2'},\n",
       "   'multimedia': None},\n",
       "  {'display_title': 'Iron Man',\n",
       "   'mpaa_rating': 'PG-13',\n",
       "   'critics_pick': 0,\n",
       "   'byline': 'A. O. SCOTT',\n",
       "   'headline': 'Heavy Suit, Light Touches',\n",
       "   'summary_short': '“Iron Man” is an unusually good superhero picture. Or at least — since it certainly has its problems — a superhero movie that’s good in unusual ways.',\n",
       "   'publication_date': '2008-05-02',\n",
       "   'opening_date': '2008-05-02',\n",
       "   'date_updated': '2017-11-02 04:18:07',\n",
       "   'link': {'type': 'article',\n",
       "    'url': 'http://www.nytimes.com/2008/05/02/movies/02iron.html',\n",
       "    'suggested_link_text': 'Read the New York Times Review of Iron Man'},\n",
       "   'multimedia': None},\n",
       "  {'display_title': 'Tetsuo: The Iron Man',\n",
       "   'mpaa_rating': 'Not Rated',\n",
       "   'critics_pick': 0,\n",
       "   'byline': 'STEPHEN HOLDEN',\n",
       "   'headline': 'TETSUO: THE IRON MAN (MOVIE)',\n",
       "   'summary_short': '',\n",
       "   'publication_date': '1992-04-22',\n",
       "   'opening_date': None,\n",
       "   'date_updated': '2017-11-02 04:16:09',\n",
       "   'link': {'type': 'article',\n",
       "    'url': 'http://www.nytimes.com/1992/04/22/movies/review-film-forgoing-the-flesh-for-metallic-pleasures.html',\n",
       "    'suggested_link_text': 'Read the New York Times Review of Tetsuo: The Iron Man'},\n",
       "   'multimedia': None}]}"
      ]
     },
     "execution_count": 18,
     "metadata": {},
     "output_type": "execute_result"
    }
   ],
   "source": [
    "data"
   ]
  },
  {
   "cell_type": "code",
   "execution_count": 19,
   "metadata": {},
   "outputs": [
    {
     "data": {
      "text/plain": [
       "dict_keys(['status', 'copyright', 'has_more', 'num_results', 'results'])"
      ]
     },
     "execution_count": 19,
     "metadata": {},
     "output_type": "execute_result"
    }
   ],
   "source": [
    "data.keys()"
   ]
  },
  {
   "cell_type": "code",
   "execution_count": 32,
   "metadata": {},
   "outputs": [
    {
     "name": "stdout",
     "output_type": "stream",
     "text": [
      "“Iron Man 3,” with all its explosions so soon after the Boston Marathon bombings, underscores just how thoroughly terrorism and its aftermath have been colonized by the movies.\n",
      "\n",
      "The superhero sequel “Iron Man 2” has been turned over to its game and gifted cast: Robert Downey Jr., Gwyneth Paltrow, Mickey Rourke, Scarlett Johansson and Samuel L. Jackson.\n",
      "\n",
      "“Iron Man” is an unusually good superhero picture. Or at least — since it certainly has its problems — a superhero movie that’s good in unusual ways.\n",
      "\n"
     ]
    }
   ],
   "source": [
    "for var in range(3):\n",
    "    print(data['results'][var]['summary_short'])\n",
    "    print()"
   ]
  },
  {
   "cell_type": "markdown",
   "metadata": {},
   "source": [
    "# Accuweather"
   ]
  },
  {
   "cell_type": "code",
   "execution_count": 34,
   "metadata": {},
   "outputs": [],
   "source": [
    "import requests"
   ]
  },
  {
   "cell_type": "code",
   "execution_count": 58,
   "metadata": {},
   "outputs": [],
   "source": [
    "loc_url = \"http://dataservice.accuweather.com/locations/v1/cities/search?apikey=\""
   ]
  },
  {
   "cell_type": "code",
   "execution_count": 59,
   "metadata": {},
   "outputs": [],
   "source": [
    "key=\"Mmr8VF9HZErNLHxjugyJJBEGIxi9R8kD\""
   ]
  },
  {
   "cell_type": "code",
   "execution_count": 60,
   "metadata": {},
   "outputs": [
    {
     "name": "stdout",
     "output_type": "stream",
     "text": [
      "Enter city Name --> Ahmedabad\n"
     ]
    }
   ],
   "source": [
    "city= input(\"Enter city Name --> \")"
   ]
  },
  {
   "cell_type": "code",
   "execution_count": 61,
   "metadata": {},
   "outputs": [],
   "source": [
    "final1=loc_url+key+\"&q=\"+city"
   ]
  },
  {
   "cell_type": "code",
   "execution_count": 62,
   "metadata": {},
   "outputs": [],
   "source": [
    "data=requests.get(final1)"
   ]
  },
  {
   "cell_type": "code",
   "execution_count": 63,
   "metadata": {},
   "outputs": [],
   "source": [
    "data=data.json()"
   ]
  },
  {
   "cell_type": "code",
   "execution_count": 64,
   "metadata": {},
   "outputs": [],
   "source": [
    "loc_key=data[0]['Key']"
   ]
  },
  {
   "cell_type": "code",
   "execution_count": 65,
   "metadata": {},
   "outputs": [],
   "source": [
    "url = \"http://dataservice.accuweather.com/forecasts/v1/daily/1day/\""
   ]
  },
  {
   "cell_type": "code",
   "execution_count": 66,
   "metadata": {},
   "outputs": [],
   "source": [
    "final_url = url+loc_key+\"?apikey=\"+key"
   ]
  },
  {
   "cell_type": "code",
   "execution_count": 67,
   "metadata": {},
   "outputs": [
    {
     "name": "stdout",
     "output_type": "stream",
     "text": [
      "http://dataservice.accuweather.com/forecasts/v1/daily/1day/202438?apikey=Mmr8VF9HZErNLHxjugyJJBEGIxi9R8kD\n"
     ]
    }
   ],
   "source": [
    "print(final_url)"
   ]
  },
  {
   "cell_type": "code",
   "execution_count": 68,
   "metadata": {},
   "outputs": [],
   "source": [
    "data = requests.get(final_url)"
   ]
  },
  {
   "cell_type": "code",
   "execution_count": 69,
   "metadata": {},
   "outputs": [],
   "source": [
    "data = data.json()"
   ]
  },
  {
   "cell_type": "code",
   "execution_count": 70,
   "metadata": {},
   "outputs": [
    {
     "data": {
      "text/plain": [
       "{'Headline': {'EffectiveDate': '2020-06-25T07:00:00+05:30',\n",
       "  'EffectiveEpochDate': 1593048600,\n",
       "  'Severity': 4,\n",
       "  'Text': 'Air quality will be unhealthy for sensitive groups Thursday',\n",
       "  'Category': 'air quality',\n",
       "  'EndDate': '2020-06-25T19:00:00+05:30',\n",
       "  'EndEpochDate': 1593091800,\n",
       "  'MobileLink': 'http://m.accuweather.com/en/in/ahmedabad/202438/extended-weather-forecast/202438?lang=en-us',\n",
       "  'Link': 'http://www.accuweather.com/en/in/ahmedabad/202438/daily-weather-forecast/202438?lang=en-us'},\n",
       " 'DailyForecasts': [{'Date': '2020-06-24T07:00:00+05:30',\n",
       "   'EpochDate': 1592962200,\n",
       "   'Temperature': {'Minimum': {'Value': 83.0, 'Unit': 'F', 'UnitType': 18},\n",
       "    'Maximum': {'Value': 95.0, 'Unit': 'F', 'UnitType': 18}},\n",
       "   'Day': {'Icon': 12,\n",
       "    'IconPhrase': 'Showers',\n",
       "    'HasPrecipitation': True,\n",
       "    'PrecipitationType': 'Rain',\n",
       "    'PrecipitationIntensity': 'Moderate'},\n",
       "   'Night': {'Icon': 7, 'IconPhrase': 'Cloudy', 'HasPrecipitation': False},\n",
       "   'Sources': ['AccuWeather'],\n",
       "   'MobileLink': 'http://m.accuweather.com/en/in/ahmedabad/202438/daily-weather-forecast/202438?day=1&lang=en-us',\n",
       "   'Link': 'http://www.accuweather.com/en/in/ahmedabad/202438/daily-weather-forecast/202438?day=1&lang=en-us'}]}"
      ]
     },
     "execution_count": 70,
     "metadata": {},
     "output_type": "execute_result"
    }
   ],
   "source": [
    "data"
   ]
  },
  {
   "cell_type": "markdown",
   "metadata": {},
   "source": [
    "Topic: Python intern batch 5_30\n",
    "Start Time : Jun 24, 2020 05:29 PM\n",
    "\n",
    "Meeting Recording:\n",
    "https://grras.zoom.us/rec/share/yZN4K5O33UxJRNbD6UvldYwDLILuT6a813Mf8_ENmksS-0DQTY4bN8w_ZB7_7ui1\n"
   ]
  },
  {
   "cell_type": "code",
   "execution_count": null,
   "metadata": {},
   "outputs": [],
   "source": []
  }
 ],
 "metadata": {
  "kernelspec": {
   "display_name": "Python 3",
   "language": "python",
   "name": "python3"
  },
  "language_info": {
   "codemirror_mode": {
    "name": "ipython",
    "version": 3
   },
   "file_extension": ".py",
   "mimetype": "text/x-python",
   "name": "python",
   "nbconvert_exporter": "python",
   "pygments_lexer": "ipython3",
   "version": "3.7.6"
  }
 },
 "nbformat": 4,
 "nbformat_minor": 4
}
