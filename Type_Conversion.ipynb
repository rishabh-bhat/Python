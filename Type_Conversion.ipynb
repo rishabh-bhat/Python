{
 "cells": [
  {
   "cell_type": "code",
   "execution_count": 1,
   "metadata": {},
   "outputs": [],
   "source": [
    "#to converted data from one type to another"
   ]
  },
  {
   "cell_type": "markdown",
   "metadata": {},
   "source": [
    "    to convert\n",
    "    \n",
    "    int --> int()\n",
    "    float --> float()\n",
    "    complex --> complex()\n",
    "    string --> str()\n",
    "    list --> list()\n",
    "    dictionary --> dict()\n",
    "    set --> set()\n",
    "    tuple --> tuple()\n",
    "   "
   ]
  },
  {
   "cell_type": "code",
   "execution_count": 13,
   "metadata": {},
   "outputs": [
    {
     "name": "stdout",
     "output_type": "stream",
     "text": [
      "Float --> 45.0\n",
      "Complex --> (45+0j)\n",
      "String --> 45\n"
     ]
    }
   ],
   "source": [
    "#int to others\n",
    "a = 45\n",
    "print(f\"Float --> {float(a)}\")\n",
    "print(f\"Complex --> {complex(a)}\")\n",
    "print(f\"String --> {str(a)}\")   #universal dtype\n",
    "#print(f\"List --> {list(a)}\")\n",
    "#print(f\"Tuple --> {tuple(a)}\")\n",
    "#print(f\"Dictionary --> {dict(a)}\")\n",
    "#print(f\"Set --> {set(a)}\")"
   ]
  },
  {
   "cell_type": "code",
   "execution_count": 6,
   "metadata": {},
   "outputs": [],
   "source": [
    "#str --> \"python\"  #iterable\n",
    "#int --> 123 # not iterable\n",
    "#list --> [12,3,4235,3,4,23,4] #iterable"
   ]
  },
  {
   "cell_type": "code",
   "execution_count": 9,
   "metadata": {},
   "outputs": [
    {
     "ename": "TypeError",
     "evalue": "'int' object is not iterable",
     "output_type": "error",
     "traceback": [
      "\u001b[1;31m---------------------------------------------------------------------------\u001b[0m",
      "\u001b[1;31mTypeError\u001b[0m                                 Traceback (most recent call last)",
      "\u001b[1;32m<ipython-input-9-1d46027d1a4e>\u001b[0m in \u001b[0;36m<module>\u001b[1;34m\u001b[0m\n\u001b[1;32m----> 1\u001b[1;33m \u001b[0mlist\u001b[0m\u001b[1;33m(\u001b[0m\u001b[1;36m1234\u001b[0m\u001b[1;33m)\u001b[0m\u001b[1;33m\u001b[0m\u001b[1;33m\u001b[0m\u001b[0m\n\u001b[0m",
      "\u001b[1;31mTypeError\u001b[0m: 'int' object is not iterable"
     ]
    }
   ],
   "source": [
    "list(1234)"
   ]
  },
  {
   "cell_type": "code",
   "execution_count": 18,
   "metadata": {},
   "outputs": [
    {
     "name": "stdout",
     "output_type": "stream",
     "text": [
      "int --> 45\n",
      "Complex --> (45.5+0j)\n",
      "String --> 45.5\n"
     ]
    }
   ],
   "source": [
    "#float to others\n",
    "a = 45.5\n",
    "print(f\"int --> {int(a)}\")\n",
    "print(f\"Complex --> {complex(a)}\")\n",
    "print(f\"String --> {str(a)}\")   \n",
    "#print(f\"List --> {list(a)}\")\n",
    "#print(f\"Tuple --> {tuple(a)}\")\n",
    "#print(f\"Dictionary --> {dict(a)}\")\n",
    "#print(f\"Set --> {set(a)}\")"
   ]
  },
  {
   "cell_type": "code",
   "execution_count": 25,
   "metadata": {},
   "outputs": [
    {
     "name": "stdout",
     "output_type": "stream",
     "text": [
      "String --> (45+5j)\n"
     ]
    }
   ],
   "source": [
    "#complex to others\n",
    "a = 45+5j\n",
    "#print(f\"Int --> {int(a)}\")\n",
    "#print(f\"Float --> {float(a)}\")\n",
    "print(f\"String --> {str(a)}\")   \n",
    "#print(f\"List --> {list(a)}\")\n",
    "#print(f\"Tuple --> {tuple(a)}\")\n",
    "#print(f\"Dictionary --> {dict(a)}\")\n",
    "#print(f\"Set --> {set(a)}\")"
   ]
  },
  {
   "cell_type": "code",
   "execution_count": 31,
   "metadata": {},
   "outputs": [
    {
     "name": "stdout",
     "output_type": "stream",
     "text": [
      "List --> ['H', 'e', 'l', 'l', 'o']\n",
      "Tuple --> ('H', 'e', 'l', 'l', 'o')\n",
      "Set --> {'e', 'H', 'l', 'o'}\n"
     ]
    }
   ],
   "source": [
    "#string to others\n",
    "a = \"Hello\"\n",
    "#print(f\"Int --> {int(a)}\")\n",
    "#print(f\"Float --> {float(a)}\")\n",
    "#print(f\"Complex --> {complex(a)}\")   \n",
    "print(f\"List --> {list(a)}\")\n",
    "print(f\"Tuple --> {tuple(a)}\")\n",
    "#print(f\"Dictionary --> {dict(a)}\")\n",
    "print(f\"Set --> {set(a)}\")"
   ]
  },
  {
   "cell_type": "code",
   "execution_count": 33,
   "metadata": {},
   "outputs": [
    {
     "name": "stdout",
     "output_type": "stream",
     "text": [
      "Int --> 123\n",
      "Float --> 123.0\n",
      "Complex --> (123+0j)\n",
      "List --> ['1', '2', '3']\n",
      "Tuple --> ('1', '2', '3')\n",
      "Set --> {'1', '2', '3'}\n"
     ]
    }
   ],
   "source": [
    "#string to others\n",
    "a = \"123\"\n",
    "print(f\"Int --> {int(a)}\")\n",
    "print(f\"Float --> {float(a)}\")\n",
    "print(f\"Complex --> {complex(a)}\")   \n",
    "print(f\"List --> {list(a)}\")\n",
    "print(f\"Tuple --> {tuple(a)}\")\n",
    "#print(f\"Dictionary --> {dict(a)}\")\n",
    "print(f\"Set --> {set(a)}\")"
   ]
  },
  {
   "cell_type": "code",
   "execution_count": 39,
   "metadata": {},
   "outputs": [
    {
     "name": "stdout",
     "output_type": "stream",
     "text": [
      "String --> [2, 312, 3, 12, 321]\n",
      "Tuple --> (2, 312, 3, 12, 321)\n",
      "Set --> {321, 2, 3, 12, 312}\n"
     ]
    }
   ],
   "source": [
    "#List to others\n",
    "a = [2,312,3,12,321]\n",
    "#print(f\"Int --> {int(a)}\")\n",
    "#print(f\"Float --> {float(a)}\")\n",
    "#print(f\"Complex --> {complex(a)}\")   \n",
    "print(f\"String --> {str(a)}\")\n",
    "print(f\"Tuple --> {tuple(a)}\")\n",
    "#print(f\"Dictionary --> {dict(a)}\")\n",
    "print(f\"Set --> {set(a)}\")"
   ]
  },
  {
   "cell_type": "code",
   "execution_count": 41,
   "metadata": {},
   "outputs": [
    {
     "name": "stdout",
     "output_type": "stream",
     "text": [
      "String --> [[2, 312], [12, 321]]\n",
      "Tuple --> ([2, 312], [12, 321])\n",
      "Dictionary --> {2: 312, 12: 321}\n"
     ]
    }
   ],
   "source": [
    "#List to others\n",
    "a = [[2,312],[12,321]]\n",
    "#print(f\"Int --> {int(a)}\")\n",
    "#print(f\"Float --> {float(a)}\")\n",
    "#print(f\"Complex --> {complex(a)}\")   \n",
    "print(f\"String --> {str(a)}\")\n",
    "print(f\"Tuple --> {tuple(a)}\")\n",
    "print(f\"Dictionary --> {dict(a)}\")\n",
    "#print(f\"Set --> {set(a)}\")"
   ]
  },
  {
   "cell_type": "code",
   "execution_count": 45,
   "metadata": {},
   "outputs": [
    {
     "name": "stdout",
     "output_type": "stream",
     "text": [
      "String --> (2, 312, 12, 321)\n",
      "List --> [2, 312, 12, 321]\n",
      "Set --> {312, 321, 2, 12}\n"
     ]
    }
   ],
   "source": [
    "#Tuple to others\n",
    "a = (2,312,12,321)\n",
    "#print(f\"Int --> {int(a)}\")\n",
    "#print(f\"Float --> {float(a)}\")\n",
    "#print(f\"Complex --> {complex(a)}\")   \n",
    "print(f\"String --> {str(a)}\")\n",
    "print(f\"List --> {list(a)}\")\n",
    "#print(f\"Dictionary --> {dict(a)}\")\n",
    "print(f\"Set --> {set(a)}\")"
   ]
  },
  {
   "cell_type": "code",
   "execution_count": 47,
   "metadata": {},
   "outputs": [
    {
     "name": "stdout",
     "output_type": "stream",
     "text": [
      "String --> ((2, 312), (12, 321))\n",
      "List --> [(2, 312), (12, 321)]\n",
      "Dictionary --> {2: 312, 12: 321}\n",
      "Set --> {(2, 312), (12, 321)}\n"
     ]
    }
   ],
   "source": [
    "#tuple to others\n",
    "a = ((2,312),(12,321))\n",
    "#print(f\"Int --> {int(a)}\")\n",
    "#print(f\"Float --> {float(a)}\")\n",
    "#print(f\"Complex --> {complex(a)}\")   \n",
    "print(f\"String --> {str(a)}\")\n",
    "print(f\"List --> {list(a)}\")\n",
    "print(f\"Dictionary --> {dict(a)}\")\n",
    "print(f\"Set --> {set(a)}\")"
   ]
  },
  {
   "cell_type": "code",
   "execution_count": 50,
   "metadata": {},
   "outputs": [
    {
     "name": "stdout",
     "output_type": "stream",
     "text": [
      "String --> {1: 44, 6: 8, 'hello': 'hi'}\n",
      "List --> [1, 6, 'hello']\n",
      "tuple --> (1, 6, 'hello')\n",
      "Set --> {1, 'hello', 6}\n"
     ]
    }
   ],
   "source": [
    "#dict to others\n",
    "a = {1:44,6:8,\"hello\":\"hi\"}\n",
    "#print(f\"Int --> {int(a)}\")\n",
    "#print(f\"Float --> {float(a)}\")\n",
    "#print(f\"Complex --> {complex(a)}\")   \n",
    "print(f\"String --> {str(a)}\")\n",
    "print(f\"List --> {list(a)}\")\n",
    "print(f\"tuple --> {tuple(a)}\")\n",
    "print(f\"Set --> {set(a)}\")"
   ]
  },
  {
   "cell_type": "code",
   "execution_count": 52,
   "metadata": {},
   "outputs": [
    {
     "name": "stdout",
     "output_type": "stream",
     "text": [
      "String --> {1, 'hello', 6, 8, 44, 'hi'}\n",
      "List --> [1, 'hello', 6, 8, 44, 'hi']\n",
      "tuple --> (1, 'hello', 6, 8, 44, 'hi')\n"
     ]
    }
   ],
   "source": [
    "#dict to others\n",
    "a = {1,44,6,8,\"hello\",\"hi\"}\n",
    "#print(f\"Int --> {int(a)}\")\n",
    "#print(f\"Float --> {float(a)}\")\n",
    "#print(f\"Complex --> {complex(a)}\")   \n",
    "print(f\"String --> {str(a)}\")\n",
    "print(f\"List --> {list(a)}\")\n",
    "print(f\"tuple --> {tuple(a)}\")\n",
    "#print(f\"Dictionary --> {dict(a)}\")"
   ]
  },
  {
   "cell_type": "code",
   "execution_count": 54,
   "metadata": {},
   "outputs": [
    {
     "name": "stdout",
     "output_type": "stream",
     "text": [
      "String --> {('hello', 'hi'), (6, 8), (1, 44)}\n",
      "List --> [('hello', 'hi'), (6, 8), (1, 44)]\n",
      "tuple --> (('hello', 'hi'), (6, 8), (1, 44))\n",
      "Dictionary --> {'hello': 'hi', 6: 8, 1: 44}\n"
     ]
    }
   ],
   "source": [
    "#dict to others\n",
    "a = {(1,44),(6,8),(\"hello\",\"hi\")}\n",
    "#print(f\"Int --> {int(a)}\")\n",
    "#print(f\"Float --> {float(a)}\")\n",
    "#print(f\"Complex --> {complex(a)}\")   \n",
    "print(f\"String --> {str(a)}\")\n",
    "print(f\"List --> {list(a)}\")\n",
    "print(f\"tuple --> {tuple(a)}\")\n",
    "print(f\"Dictionary --> {dict(a)}\")"
   ]
  },
  {
   "cell_type": "code",
   "execution_count": null,
   "metadata": {},
   "outputs": [],
   "source": []
  }
 ],
 "metadata": {
  "kernelspec": {
   "display_name": "Python 3",
   "language": "python",
   "name": "python3"
  },
  "language_info": {
   "codemirror_mode": {
    "name": "ipython",
    "version": 3
   },
   "file_extension": ".py",
   "mimetype": "text/x-python",
   "name": "python",
   "nbconvert_exporter": "python",
   "pygments_lexer": "ipython3",
   "version": "3.7.6"
  }
 },
 "nbformat": 4,
 "nbformat_minor": 4
}
