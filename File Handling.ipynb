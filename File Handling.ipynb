{
 "cells": [
  {
   "cell_type": "markdown",
   "metadata": {},
   "source": [
    "# File"
   ]
  },
  {
   "cell_type": "code",
   "execution_count": 1,
   "metadata": {},
   "outputs": [],
   "source": [
    "#It is a collection Data"
   ]
  },
  {
   "cell_type": "markdown",
   "metadata": {},
   "source": [
    "### Type"
   ]
  },
  {
   "cell_type": "markdown",
   "metadata": {},
   "source": [
    "    o Audio File --> mp3, wav, webrip\n",
    "    o Video File --> mp4, mpeg, 3gp, mkv\n",
    "    o Document File --> pdf, docx, pptx, txt\n",
    "    o Zip --> zip, gzip, tar\n",
    "    o Photo --> jpg, png, gif"
   ]
  },
  {
   "cell_type": "markdown",
   "metadata": {},
   "source": [
    "# File System"
   ]
  },
  {
   "cell_type": "markdown",
   "metadata": {},
   "source": [
    "It is a way to store the files"
   ]
  },
  {
   "cell_type": "code",
   "execution_count": 1,
   "metadata": {},
   "outputs": [],
   "source": [
    "#NTFS  -> New Tech. FIle System\n",
    "#FAT32\n",
    "#exfat\n",
    "#ext4\n",
    "#ext2\n",
    "#xfs"
   ]
  },
  {
   "cell_type": "markdown",
   "metadata": {},
   "source": [
    "Topic: Python intern batch 5_30\n",
    "Start Time : Jun 12, 2020 05:30 PM\n",
    "\n",
    "Meeting Recording:\n",
    "https://grras.zoom.us/rec/share/6ZBxFoz9rkNJWK_n8lH6S-l-JtjPaaa82yRMq_JemEiuFBfIqxHyeNPxPqxO0NGx\n"
   ]
  },
  {
   "cell_type": "markdown",
   "metadata": {},
   "source": [
    "Topic: Python intern batch 5_30\n",
    "Start Time : Jun 11, 2020 06:00 PM\n",
    "\n",
    "Meeting Recording:\n",
    "https://grras.zoom.us/rec/share/_c8rBon2qkJJYqfT5AbCBqUcQrnHeaa81ScW_vtfmk3bc-i1ZhOZGlWNHUWRnSVn\n"
   ]
  },
  {
   "cell_type": "markdown",
   "metadata": {},
   "source": [
    "Topic: Python intern batch 5_30\n",
    "Start Time : Jun 9, 2020 05:30 PM\n",
    "\n",
    "Meeting Recording:\n",
    "https://grras.zoom.us/rec/share/w_RQF7T60VJIcLPTzH_lXJ96I6jOX6a803cfqKcEzh5DMsydiw3L0PShfleLm-gI\n"
   ]
  },
  {
   "cell_type": "markdown",
   "metadata": {},
   "source": [
    "Topic: Python intern batch 5_30\n",
    "Start Time : Jun 5, 2020 05:31 PM\n",
    "\n",
    "Meeting Recording:\n",
    "https://grras.zoom.us/rec/share/_sdFaK__pmZObaf11nPPfpwkQqH_X6a80XVP-_QPy0nYmBEhZh7_5XjLS5xn_AA8\n"
   ]
  },
  {
   "cell_type": "markdown",
   "metadata": {},
   "source": [
    "# Modes"
   ]
  },
  {
   "cell_type": "markdown",
   "metadata": {},
   "source": [
    "1.  read -->  r\n",
    "2.  write ---> w\n",
    "3.  append --> a\n",
    "4. read,write --> r+,w+\n",
    "5. byte mode --> rb, wb, ab"
   ]
  },
  {
   "cell_type": "markdown",
   "metadata": {},
   "source": [
    "**Syntax--> **\n",
    "    \n",
    "    filepointer = open(\"Path\")\n",
    "    statement\n",
    "    \n",
    "    \n",
    "    with open(\"Path\") as filepointer:\n",
    "        statement"
   ]
  },
  {
   "cell_type": "code",
   "execution_count": 3,
   "metadata": {},
   "outputs": [
    {
     "name": "stdout",
     "output_type": "stream",
     "text": [
      "Name\tEnglish \tMaths \tHindi\tComputer\tSST\tScience\t\n",
      "Ravi\t55\t\t44\t22\t33\t\t11\t88\n",
      "Priya\t55\t\t99\t77\t88\t\t88\t55\n",
      "Rishabh\t77\t\t55\t9\t9\t\t44\t44\n",
      "Amit\t88\t\t55\t77\t56\t\t44\t65\n",
      "Swati\t78\t\t65\t56\t56\t\t56\t56\n",
      "\n"
     ]
    }
   ],
   "source": [
    "with open(\"C:/Users/HP-PC/Desktop/Studentdata.txt\",'r') as f:\n",
    "    d=f.read()\n",
    "    print(d)"
   ]
  },
  {
   "cell_type": "code",
   "execution_count": 58,
   "metadata": {},
   "outputs": [],
   "source": [
    "f = open(\"c:/Users/HP-PC/Desktop/Studentdata.txt\",'r')\n",
    "data = f.read()\n",
    "f.close()"
   ]
  },
  {
   "cell_type": "code",
   "execution_count": 59,
   "metadata": {},
   "outputs": [
    {
     "name": "stdout",
     "output_type": "stream",
     "text": [
      "Name\tEnglish \tMaths \tHindi\tComputer\tSST\tScience\t\n",
      "Ravi\t55\t\t44\t22\t33\t\t11\t88\n",
      "Priya\t55\t\t99\t77\t88\t\t88\t55\n",
      "Rishabh\t77\t\t55\t9\t9\t\t44\t44\n",
      "Amit\t88\t\t55\t77\t56\t\t44\t65\n",
      "Swati\t78\t\t65\t56\t56\t\t56\t56\n",
      "\n"
     ]
    }
   ],
   "source": [
    "print(data)"
   ]
  },
  {
   "cell_type": "code",
   "execution_count": 60,
   "metadata": {},
   "outputs": [
    {
     "data": {
      "text/plain": [
       "'Name\\tEnglish \\tMaths \\tHindi\\tComputer\\tSST\\tScience\\t\\nRavi\\t55\\t\\t44\\t22\\t33\\t\\t11\\t88\\nPriya\\t55\\t\\t99\\t77\\t88\\t\\t88\\t55\\nRishabh\\t77\\t\\t55\\t9\\t9\\t\\t44\\t44\\nAmit\\t88\\t\\t55\\t77\\t56\\t\\t44\\t65\\nSwati\\t78\\t\\t65\\t56\\t56\\t\\t56\\t56\\n'"
      ]
     },
     "execution_count": 60,
     "metadata": {},
     "output_type": "execute_result"
    }
   ],
   "source": [
    "data"
   ]
  },
  {
   "cell_type": "code",
   "execution_count": 61,
   "metadata": {},
   "outputs": [
    {
     "data": {
      "text/plain": [
       "['Name\\tEnglish \\tMaths \\tHindi\\tComputer\\tSST\\tScience\\t',\n",
       " 'Ravi\\t55\\t\\t44\\t22\\t33\\t\\t11\\t88',\n",
       " 'Priya\\t55\\t\\t99\\t77\\t88\\t\\t88\\t55',\n",
       " 'Rishabh\\t77\\t\\t55\\t9\\t9\\t\\t44\\t44',\n",
       " 'Amit\\t88\\t\\t55\\t77\\t56\\t\\t44\\t65',\n",
       " 'Swati\\t78\\t\\t65\\t56\\t56\\t\\t56\\t56',\n",
       " '']"
      ]
     },
     "execution_count": 61,
     "metadata": {},
     "output_type": "execute_result"
    }
   ],
   "source": [
    "data.split(\"\\n\")"
   ]
  },
  {
   "cell_type": "code",
   "execution_count": 12,
   "metadata": {},
   "outputs": [
    {
     "name": "stdout",
     "output_type": "stream",
     "text": [
      "['Name', 'English ', 'Maths ', 'Hindi', 'Computer', 'SST', 'Science', '']\n",
      "['Ravi', '55', '', '44', '22', '33', '', '11', '88']\n",
      "['Priya', '55', '', '99', '77', '88', '', '88', '55']\n",
      "['Rishabh', '77', '', '55', '9', '9', '', '44', '44']\n",
      "['Amit', '88', '', '55', '77', '56', '', '44', '65']\n",
      "['Swati', '78', '', '65', '56', '56', '', '56', '56']\n",
      "['']\n"
     ]
    }
   ],
   "source": [
    "for line in data.split(\"\\n\"):\n",
    "    print(line.split(\"\\t\"))"
   ]
  },
  {
   "cell_type": "code",
   "execution_count": 62,
   "metadata": {},
   "outputs": [],
   "source": [
    "p=[]\n",
    "for line in data.split(\"\\n\"):\n",
    "    p.append(line.split(\"\\t\"))"
   ]
  },
  {
   "cell_type": "code",
   "execution_count": 63,
   "metadata": {},
   "outputs": [
    {
     "data": {
      "text/plain": [
       "[['Name', 'English ', 'Maths ', 'Hindi', 'Computer', 'SST', 'Science', ''],\n",
       " ['Ravi', '55', '', '44', '22', '33', '', '11', '88'],\n",
       " ['Priya', '55', '', '99', '77', '88', '', '88', '55'],\n",
       " ['Rishabh', '77', '', '55', '9', '9', '', '44', '44'],\n",
       " ['Amit', '88', '', '55', '77', '56', '', '44', '65'],\n",
       " ['Swati', '78', '', '65', '56', '56', '', '56', '56'],\n",
       " ['']]"
      ]
     },
     "execution_count": 63,
     "metadata": {},
     "output_type": "execute_result"
    }
   ],
   "source": [
    "p"
   ]
  },
  {
   "cell_type": "code",
   "execution_count": 33,
   "metadata": {},
   "outputs": [],
   "source": [
    "for var in range(len(p)):\n",
    "    if \"\" in p[var]:\n",
    "        p[var].remove(\"\")"
   ]
  },
  {
   "cell_type": "code",
   "execution_count": 30,
   "metadata": {},
   "outputs": [],
   "source": [
    "#p[1].remove(\"\")"
   ]
  },
  {
   "cell_type": "code",
   "execution_count": 35,
   "metadata": {},
   "outputs": [
    {
     "data": {
      "text/plain": [
       "[]"
      ]
     },
     "execution_count": 35,
     "metadata": {},
     "output_type": "execute_result"
    }
   ],
   "source": [
    "p.pop()"
   ]
  },
  {
   "cell_type": "code",
   "execution_count": 36,
   "metadata": {},
   "outputs": [
    {
     "data": {
      "text/plain": [
       "[['Name', 'English ', 'Maths ', 'Hindi', 'Computer', 'SST', 'Science'],\n",
       " ['Ravi', '55', '44', '22', '33', '11', '88'],\n",
       " ['Priya', '55', '99', '77', '88', '88', '55'],\n",
       " ['Rishabh', '77', '55', '9', '9', '44', '44'],\n",
       " ['Amit', '88', '55', '77', '56', '44', '65'],\n",
       " ['Swati', '78', '65', '56', '56', '56', '56']]"
      ]
     },
     "execution_count": 36,
     "metadata": {},
     "output_type": "execute_result"
    }
   ],
   "source": [
    "p"
   ]
  },
  {
   "cell_type": "code",
   "execution_count": 37,
   "metadata": {},
   "outputs": [
    {
     "name": "stdout",
     "output_type": "stream",
     "text": [
      "['_CHUNK_SIZE', '__class__', '__del__', '__delattr__', '__dict__', '__dir__', '__doc__', '__enter__', '__eq__', '__exit__', '__format__', '__ge__', '__getattribute__', '__getstate__', '__gt__', '__hash__', '__init__', '__init_subclass__', '__iter__', '__le__', '__lt__', '__ne__', '__new__', '__next__', '__reduce__', '__reduce_ex__', '__repr__', '__setattr__', '__sizeof__', '__str__', '__subclasshook__', '_checkClosed', '_checkReadable', '_checkSeekable', '_checkWritable', '_finalizing', 'buffer', 'close', 'closed', 'detach', 'encoding', 'errors', 'fileno', 'flush', 'isatty', 'line_buffering', 'mode', 'name', 'newlines', 'read', 'readable', 'readline', 'readlines', 'reconfigure', 'seek', 'seekable', 'tell', 'truncate', 'writable', 'write', 'write_through', 'writelines']\n"
     ]
    }
   ],
   "source": [
    "print(dir(f))"
   ]
  },
  {
   "cell_type": "code",
   "execution_count": 42,
   "metadata": {},
   "outputs": [],
   "source": [
    "f = open(\"C:/Users/HP-PC/Desktop/try.txt\",\"w\")"
   ]
  },
  {
   "cell_type": "code",
   "execution_count": 43,
   "metadata": {},
   "outputs": [
    {
     "data": {
      "text/plain": [
       "False"
      ]
     },
     "execution_count": 43,
     "metadata": {},
     "output_type": "execute_result"
    }
   ],
   "source": [
    "f.readable()"
   ]
  },
  {
   "cell_type": "code",
   "execution_count": 44,
   "metadata": {},
   "outputs": [
    {
     "data": {
      "text/plain": [
       "True"
      ]
     },
     "execution_count": 44,
     "metadata": {},
     "output_type": "execute_result"
    }
   ],
   "source": [
    "f.writable()"
   ]
  },
  {
   "cell_type": "code",
   "execution_count": 46,
   "metadata": {},
   "outputs": [
    {
     "data": {
      "text/plain": [
       "304"
      ]
     },
     "execution_count": 46,
     "metadata": {},
     "output_type": "execute_result"
    }
   ],
   "source": [
    "f.write(str(p))"
   ]
  },
  {
   "cell_type": "code",
   "execution_count": 47,
   "metadata": {},
   "outputs": [],
   "source": [
    "f.close()"
   ]
  },
  {
   "cell_type": "code",
   "execution_count": 57,
   "metadata": {},
   "outputs": [],
   "source": [
    "f = open(\"C:/Users/HP-PC/Desktop/try.txt\",\"w\")\n",
    "for line in p:\n",
    "    f.write(\"\\t\".join(line)+\"\\n\")\n",
    "f.close()"
   ]
  },
  {
   "cell_type": "code",
   "execution_count": 4,
   "metadata": {},
   "outputs": [],
   "source": [
    "f = open(\"c:/Users/HP-PC/Desktop/try.txt\",\"a\")"
   ]
  },
  {
   "cell_type": "code",
   "execution_count": 5,
   "metadata": {},
   "outputs": [],
   "source": [
    "for var in range(10):\n",
    "    f.write(\"Python is Awesome\\n\")"
   ]
  },
  {
   "cell_type": "code",
   "execution_count": 6,
   "metadata": {},
   "outputs": [],
   "source": [
    "f.close()"
   ]
  },
  {
   "cell_type": "markdown",
   "metadata": {},
   "source": [
    "## Bytemode"
   ]
  },
  {
   "cell_type": "code",
   "execution_count": 9,
   "metadata": {},
   "outputs": [],
   "source": [
    "f = open(\"g:/Music/Emptiness (LONELY).mp3\",'rb')"
   ]
  },
  {
   "cell_type": "code",
   "execution_count": 10,
   "metadata": {},
   "outputs": [],
   "source": [
    "data=f.read()"
   ]
  },
  {
   "cell_type": "code",
   "execution_count": 11,
   "metadata": {},
   "outputs": [
    {
     "data": {
      "text/plain": [
       "b'ID3\\x03\\x00\\x00\\x00\\x077\"TALB\\x00\\x00\\x00\\x1a\\x00\\x00\\x00facebook.com/mohitdeenrmxTPE2\\x00\\x00\\x00\\x1a\\x00\\x00\\x00facebook.com/mohitdeenrmxCOMM\\x00\\x00\\x00\\x1e\\x00\\x00\\x00eng\\x00facebook.com/mohitdeenrmxTPOS\\x00\\x00\\x00\\x1a\\x00\\x00\\x00facebook.com/mohitdeenrmxTCON\\x00\\x00\\x00\\x06\\x00\\x00\\x00OtherTIT2\\x00\\x00\\x00\\x13\\x00\\x00\\x00Emptiness (LONELY)APIC\\x00\\x01\\xd2\\x02\\x00\\x00\\x00image/jpeg\\x00\\x03\\x00\\xff\\xd8\\xff\\xe0\\x00\\x10JFIF\\x00\\x01\\x01\\x01\\x00`\\x00`\\x00\\x00\\xff\\xe1\\x01JExif\\x00\\x00MM\\x00*\\x00\\x00\\x00\\x08\\x00\\x02\\x011\\x00\\x02\\x00\\x00\\x00\\x0b\\x00\\x00\\x00&\\x87i\\x00\\x04\\x00\\x00\\x00\\x01\\x00\\x00\\x002\\x00\\x00\\x00\\x00Picasa 3.0\\x00\\x00\\x00\\x06\\x90\\x00\\x00\\x07\\x00\\x00\\x00\\x040210\\x92\\x86\\x00\\x07\\x00\\x00\\x00z\\x00\\x00\\x00\\x80\\xa0\\x02\\x00\\x04\\x00\\x00\\x00\\x01\\x00\\x00\\x01\\xb9\\xa0\\x03\\x00\\x04\\x00\\x00\\x00\\x01\\x00\\x00\\x01\\xa6\\xa0\\x05\\x00\\x04\\x00\\x00\\x00\\x01\\x00\\x00\\x00\\xfa\\xa4 \\x00\\x02\\x00\\x00\\x00!\\x00\\x00\\x01\\x1e\\x00\\x00\\x00\\x00UNICODE\\x00\\x00C\\x00R\\x00E\\x00A\\x00T\\x00O\\x00R\\x00:\\x00 \\x00g\\x00d\\x00-\\x00j\\x00p\\x00e\\x00g\\x00 \\x00v\\x001\\x00.\\x000\\x00 \\x00(\\x00u\\x00s\\x00i\\x00n\\x00g\\x00 \\x00I\\x00J\\x00G\\x00 \\x00J\\x00P\\x00E\\x00G\\x00 \\x00v\\x006\\x002\\x00)\\x00,\\x00 \\x00q\\x00u\\x00a\\x00l\\x00i\\x00t\\x00y\\x00 \\x00=\\x00 \\x009\\x009\\x00\\n\\x00\\x02\\x00\\x01\\x00\\x02\\x00\\x00\\x00\\x05\\x00\\x00\\x01\\x18\\x00\\x02\\x00\\x07\\x00\\x00\\x00\\x040100\\x00\\x00\\x00\\x00    \\x00\\x0033014df2e0d72077c9af6d2ff8515168\\x00\\x00\\x00\\x00\\xff\\xdb\\x00C\\x00\\x04\\x02\\x03\\x03\\x03\\x02\\x04\\x03\\x03\\x03\\x04\\x04\\x04\\x04\\x05\\t\\x06\\x05\\x05\\x05\\x05\\x0b\\x08\\x08\\x06\\t\\r\\x0b\\r\\r\\r\\x0b\\x0c\\x0c\\x0e\\x10\\x14\\x11\\x0e\\x0f\\x13\\x0f\\x0c\\x0c\\x12\\x18\\x12\\x13\\x15\\x16\\x17\\x17\\x17\\x0e\\x11\\x19\\x1b\\x19\\x16\\x1a\\x14\\x16\\x17\\x16\\xff\\xdb\\x00C\\x01\\x04\\x04\\x04\\x05\\x05\\x05\\n\\x06\\x06\\n\\x16\\x0f\\x0c\\x0f\\x16\\x16\\x16\\x16\\x16\\x16\\x16\\x16\\x16\\x16\\x16\\x16\\x16\\x16\\x16\\x16\\x16\\x16\\x16\\x16\\x16\\x16\\x16\\x16\\x16\\x16\\x16\\x16\\x16\\x16\\x16\\x16\\x16\\x16\\x16\\x16\\x16\\x16\\x16\\x16\\x16\\x16\\x16\\x16\\x16\\x16\\x16\\x16\\x16\\x16\\xff\\xc0\\x00\\x11\\x08\\x03\\x0c\\x03/\\x03\\x01\"\\x00\\x02\\x11\\x01\\x03\\x11\\x01\\xff\\xc4\\x00\\x1f\\x00\\x00\\x01\\x05\\x01\\x01\\x01\\x01\\x01\\x01\\x00\\x00\\x00\\x00\\x00\\x00\\x00\\x00\\x01\\x02\\x03\\x04\\x05\\x06\\x07\\x08\\t\\n\\x0b\\xff\\xc4\\x00\\xb5\\x10\\x00\\x02\\x01\\x03\\x03\\x02\\x04\\x03\\x05\\x05\\x04\\x04\\x00\\x00\\x01}\\x01\\x02\\x03\\x00\\x04\\x11\\x05\\x12!1A\\x06\\x13Qa\\x07\"q\\x142\\x81\\x91\\xa1\\x08#B\\xb1\\xc1\\x15R\\xd1\\xf0$3br\\x82\\t\\n\\x16\\x17\\x18\\x19\\x1a%&\\'()*456789:CDEFGHIJSTUVWXYZcdefghijstuvwxyz\\x83\\x84\\x85\\x86\\x87\\x88\\x89\\x8a\\x92\\x93\\x94\\x95\\x96\\x97\\x98\\x99\\x9a\\xa2\\xa3\\xa4\\xa5\\xa6\\xa7\\xa8\\xa9\\xaa\\xb2\\xb3\\xb4\\xb5\\xb6\\xb7\\xb8\\xb9\\xba\\xc2\\xc3\\xc4\\xc5\\xc6\\xc7\\xc8\\xc9\\xca\\xd2\\xd3\\xd4\\xd5\\xd6\\xd7\\xd8\\xd9\\xda\\xe1\\xe2\\xe3\\xe4\\xe5\\xe6\\xe7\\xe8\\xe9\\xea\\xf1\\xf2\\xf3\\xf4\\xf5\\xf6\\xf7\\xf8\\xf9\\xfa\\xff\\xc4\\x00\\x1f\\x01\\x00\\x03\\x01\\x01\\x01\\x01\\x01\\x01\\x01\\x01\\x01\\x00\\x00\\x00\\x00\\x00\\x00\\x01\\x02\\x03\\x04\\x05\\x06\\x07\\x08\\t\\n\\x0b\\xff\\xc4\\x00\\xb5\\x11\\x00\\x02\\x01\\x02\\x04\\x04\\x03\\x04\\x07\\x05'"
      ]
     },
     "execution_count": 11,
     "metadata": {},
     "output_type": "execute_result"
    }
   ],
   "source": [
    "data[:1000]"
   ]
  },
  {
   "cell_type": "code",
   "execution_count": 12,
   "metadata": {},
   "outputs": [],
   "source": [
    "fp = open(\"c:/Users/HP-PC/Desktop/Emptiness.mp3\",\"wb\")"
   ]
  },
  {
   "cell_type": "code",
   "execution_count": 13,
   "metadata": {},
   "outputs": [
    {
     "data": {
      "text/plain": [
       "9389100"
      ]
     },
     "execution_count": 13,
     "metadata": {},
     "output_type": "execute_result"
    }
   ],
   "source": [
    "fp.write(data)"
   ]
  },
  {
   "cell_type": "code",
   "execution_count": 14,
   "metadata": {},
   "outputs": [],
   "source": [
    "fp.close()"
   ]
  },
  {
   "cell_type": "code",
   "execution_count": 15,
   "metadata": {},
   "outputs": [],
   "source": [
    "f = open(\"g:/Music/Akhar (Lahoriye) - Amrinder Gill (DjPunjab.Com).mp3\",\"rb\")"
   ]
  },
  {
   "cell_type": "code",
   "execution_count": 16,
   "metadata": {},
   "outputs": [],
   "source": [
    "data = f.read()"
   ]
  },
  {
   "cell_type": "code",
   "execution_count": 17,
   "metadata": {},
   "outputs": [
    {
     "data": {
      "text/plain": [
       "b'ID3\\x04\\x00\\x00\\x00/W\\x17TIT2\\x00\\x00\\x00!\\x00\\x00\\x03Akhar (Lahoriye) (DjPunjab.CoM)\\x00TPE1\\x00\\x00\\x00\\x1e\\x00\\x00\\x03Amrinder Gill (DjPunjab.CoM)\\x00TALB\\x00\\x00\\x00!\\x00\\x00\\x03Akhar (Lahoriye) (DjPunjab.CoM)\\x00TXXX\\x00\\x00\\x00&\\x00\\x00\\x03comment\\x00Downloaded From DjPunjab.Com\\x00TSSE\\x00\\x00\\x00\\x0f\\x00\\x00\\x03Lavf57.57.100\\x00APIC\\x00/U<\\x00\\x00\\x03image/png\\x00\\x02FRONT_COVER\\x00\\x89PNG\\r\\n\\x1a\\n\\x00\\x00\\x00\\rIHDR\\x00\\x00\\x02X\\x00\\x00\\x02X\\x08\\x02\\x00\\x00\\x001\\x04\\x0f\\x8b\\x00\\x00\\x00\\tpHYs\\x00\\x00\\x00\\x01\\x00\\x00\\x00\\x01\\x00O%\\xc4\\xd6\\x00\\x00\\x10\\x00IDATx\\x9c\\xec\\xbd\\x05\\x94\\x1cG\\x9e\\xed\\xed\\xf7\\xdey\\xbbogvv\\xc002I\\xcd\\xdd\\xc5U\\xc9T\\xcc\\xd8\\xcc\\xddb\\xb0\\xc0\\x1633Z\\xcc,\\x0b,Y\\xb2\\x98\\xc1\\x16\\xb3dK\\x96mYl1K-\\xe6\\xfenu\\xd8\\xb5=\\x92%\\xdb\\xfb\\xd9;\\xeb\\x9d=\\xe7v\\x9e\\xc8\\xc8\\xac\\xcc\\xa8\\xcc\\xa8\\xff/ndD\\xf6K\\xb2`\\x96x\\x8570\\x12\\xc5{,\\xd6\\xa8d9\\xe2t\\xda9\\x0e\\xb2\\xf2\\x82C\\x92]\\x8a\\xddmv8\\xac.\\xbb\\xc5\\xe9\\xb1\\xbb\\xed\\x8a\\xcd,(\\x16\\xd1\\xec\\xb2:\\xbd\\x0e\\x8f\\xdb\\xe6r\\x98\\xed>\\xa7\\x17\\t\\xa7\\xc5\\x81L\\xec\\x83|$\\xb0\\xa7\\xcf\\xe6\\xf5X\\xdc\\xf88\\x0e\\x02y,N\\x9f\\xdd\\xe5w\\xb8\\x9d\\x8a\\x15\\x89\\xa0\\xcb\\x1d\\xf6x\\xb3C\\xe1\\xfc\\x8c\\xcc\\x0c'"
      ]
     },
     "execution_count": 17,
     "metadata": {},
     "output_type": "execute_result"
    }
   ],
   "source": [
    "data[:500]"
   ]
  },
  {
   "cell_type": "code",
   "execution_count": 18,
   "metadata": {},
   "outputs": [],
   "source": [
    "f.close()"
   ]
  },
  {
   "cell_type": "code",
   "execution_count": 20,
   "metadata": {},
   "outputs": [],
   "source": [
    "fp = open(\"c:/Users/HP-PC/Desktop/Emptiness.mp3\",\"ab\")\n",
    "fp.write(data)\n",
    "fp.close()"
   ]
  },
  {
   "cell_type": "code",
   "execution_count": 21,
   "metadata": {},
   "outputs": [
    {
     "data": {
      "text/plain": [
       "b'\\xbf\\xcfm1\\xfb\\x9d\\xa1\\x80+\\x1c\\xf2V\\xc8\\x17\\x08\\xfb\\x83\\x99\\xe1pnff\\xc0\\xe3q\\xd9l6\\xc5\\xe2\\xb4\\xda\\x83\\x9ePz #\\xe4I\\xf7\\xda\\x03!o\\x90(\\xe8\\t@H\\xa4\\x07\"\\x99\\xa1\\x0c,If\\xd8\\x17\\xc2jNz6\\x94\\x1d\\xc9\\n\\xb8\\xfd$\\x07i,#\\xfe0\\xf6A&\\xf6\\xcf\\xcd\\xc8\\xc1&\\xe4(\\xbc\\x9cT-Q\\x9b\\xaa1\\xa8\\xf5&\\rcPQ\\xbaT\\xa3&Y\\xafN\\xd2a\\x894r\\xf4i&\"\\xac\\x12iS\\x0c\\x10\\xaf\\xa7m\\xbc\\xe2V\\xec\\x0e\\xd1b\\xe5d\\xa4\\x91 r\\xc96\\xaf\\xc5\\x19\\xb0{BN_\\xd0\\xe1\\xf5\\x98\\x1dN\\xc9j\\x93q\\xe9P\\xa4\\x88Y\\xb0\\xa8\\x92\\xd4\\xba4\\xbdD\\x89\\x9c\\x9e\\xe5\\xbf\\x97`\\xe0$=\\'\\x1bx\"E\\xcfB\\xdf\\xad\\xea\\xc5\\x98\\xacF\\x9eK\\xd5\\x07\\x18\\xc9m`\\x1d\\xa9\\xea\\xa0\\x91N7\\x9arX\\xae\\x80\\x8e*\\x97\\x93 \\x1f%\\xd8\\xd4FAK)FN2\\xc9\\xa2Q\\x12\\x0c\"\\xaf\\x17p\\nH\\xd618\\xb2`\\xe4\\x7fP\\xac\\x8e\\xf9A\\xf1\\x95\\x8aZY\\x9c\\x8e!\\x8a}\\x0b\"\\xd1\\xc8?OO\\xed\\x83O\\xb1Z\\xfa\\xa9\\xad\\x95/\\xcb\\xdfE\\xb1\\xef\\xf5\\x94b;<\\xf5\\xf5E\\xad\\x01r\\x18\\x8d>\\x8e\\xcb`\\xd8\\x08E\\xe7\\x18(\\xdc\\x91|\\x8a\\xcd31a\\x13\\x95#\\x88\\x16\\xad\\xd6T\\xad\\x9a\\x8d\\xe6\\x9c\\x9c\\x18\\xa6\\x0c\\x19,\\x85M\\xd8-\\xcf\\xc0\\x14\\x98\\xb8\\xb0\\x91\\xf3\\xaa\\x8d\\xa2\\xd6$\\xe9(\\xd6\\xc8q&\\\\\\n\\x11Rt\\xb2\\xac\\x95~\\xb4\\xc0O\\xdf\\x0e\\x1d\\xcfi9\\x88\\xd5\\xb0\\x10I#\\x13\\xc2*\\xad\\xa2\\xa1X>\\x12\\x82^ \\x9b\\x185\\x83MX\\xc6\\xb6>O\\xf8\\x08\\x14Kc\\x7fc\\x8a\\x11\\x9f\\x95\\x8c\\x92\\x95\\xb5b\\x8946y\\x14O^(/\\xcf#@E\\x1e\\xb9\\xd4o\\xa9\\xe5\\xb1\\x97\\xd8\\x95<\\x96\\x8f\\xe8\\x0c\\x85\\x92\\xa5\\xb6\\xd3\\xeb5r6\\x95A\\xd2\\xd2L\\x8a\\x0e\\x95\\x8dR\\x9b\\xc8\\xc1I\\xa9b\\xdf\\x85\\x14\\xb5\\xf2w\\x89e\\x9a\\r\\x8c\\xd5\\xc4\\xf9\\xb4\\x8c_\\xc7\\xe6h\\xb9|\\x83\\x98\\xa1e}I\\xba0\\'A\\x9c\\xc6 \\x19\\xa2u\\x8c\\xd1P\\x16\\x93\\x85Sq\\xe4\\xda\\x92\\xdf\\x05\\xc4\\xe1P\\xdf\\x8bV3\\x14\\xaeO\\xc5R\\x97\\xa4\\xd7&\\xea\\x0c)FF/rFY\\xa0\\xcc1I\\x8cU\\xe1\\xec\\x90C\\xf1\\xba\\xad\\x01\\xa7\\xd9g\\x93\\xdcV\\xd1\\x85\\x1c\\xde\\xa4\\xc4\\xe2\\xc6S\\x01$\\x96F\\x0c!\\xa1\\x06R%j\\x93\\xab\\xa9U\\x89z(\\xa9\\xaa*\\xa9j*\\xb62z\\x9e7I\"#\\t\\xb4h\\x95,\\x88\\xc3~\\x97\\x0f\\x01\\x19\\xe1\\x0b\\xe1\\xd7g\\xf5C~[ \\xe4\\x0c\\xa7{\\xb22\\xbc\\xd9X\\x86]\\x19\\x11wz\\xd8\\x15\\t\\xbbC!W0\\xe0\\xf0\\xfaln\\x84b\\x84\\xe5\\xccP\\x16b)\\xe2\\x0f\\x14\\xf1\\xa7C\\x08\\xbc\\x01w\\x10A\\t\\xf9X\\xf5\\xd8\\x11\\xd8=d\\xab\\xd7\\xe1\\xf3Y\\x82~k(`\\x0b\\x04\\xedA\\x041(\\xe0p\\x12E<^\\xc8ow \\xca\\xf9\\xac.\\xbf\\xcd\\xeb\\xb5\\xb8}\\x96\\x80\\xdf\\x8a\\x8f\\x04\\x036|*\\x14\\xb4\\x87c\\x8a\\xa0T\\xae\\x0cd\\x92\\xad\\xd8\\xd3%y\\xec\\x8c\\xdd\\xc99!\\x1bms\\xb0\\x0e\\xb7\\xe0v\\xf1.\\xa4\\x91\\x1f\\xb6\\x85C\\xd6\\x90\\xa8\\x15uq::\\x85F\\x02J\\xad\\xaa\\xa6T\\xac&A\\xaf\\x8a\\xd3JF\\x85\\xd7\\x89\\xfa$\\xa3\\x80 \\x9aL\\x99\\x92L\\xd8A\\xd6\\xcb\\xa6\\x04\\xa31\\xde\\xc0\\xa7q\\\\*\\xcb\\xa4hP\\x1f\\xec\\xb4\\xc0\\xa6j\\r\\xf1)\\\\\\x9a\\x0e5D\\xd1\\xd3/\\xb9\\x11\\x91\\x9d>B\\xa9\\x90\\xcb\\x1d\\xfdJVk\\x8e\\xdf\\xef\\xb7X\\xdc\\x92d\\x13D\\xc8!\\x01\\x90N\\x97\\xdd\\x03\\x11\\xec\\xe1\\x06\\xd8d+\\xae;V\\t\\xff\\xb0\\x04\\xf9\\x90 ,\\x84\\xb0\\x1b@\\x18t\\x06*\\xe4#\\xc2=\\x00\\x05\\x81\\xc0\\x887\\x00\\x05\\x9c.\\xb7\\xc5\\xea\\xb5\\xd9#^_\\xba\\xcf\\x1bt9\\x83\\xee\\x08X\\x88+\\x1e\\xbd\\xe8.\\x8f\\xdf\\xed\\rz\\xbd!\\x9f\\xcfa\\xb1\\x00\\x84X\\x05\\x1a3\\x82\\x99\\xb8I\\xe0\\xa5\\xc7\\x16\\xa5ZL \\x1f\\x96@ZF0\\x9dP\\x10\\x84\\x8b\\xa1\\x11\\x99H\\x10\"f\\x853c'"
      ]
     },
     "execution_count": 21,
     "metadata": {},
     "output_type": "execute_result"
    }
   ],
   "source": [
    "data[500:1500]"
   ]
  },
  {
   "cell_type": "code",
   "execution_count": 26,
   "metadata": {},
   "outputs": [],
   "source": [
    "fp = open(\"c:/Users/HP-PC/Desktop/Akhar.mp3\",\"wb\")\n",
    "fp.write(data[500:1500000])\n",
    "fp.close()"
   ]
  },
  {
   "cell_type": "code",
   "execution_count": 27,
   "metadata": {},
   "outputs": [],
   "source": [
    "bank = {\"hello\":\"hi\",\"Bye\":\"bye\"}"
   ]
  },
  {
   "cell_type": "code",
   "execution_count": 28,
   "metadata": {},
   "outputs": [
    {
     "name": "stdout",
     "output_type": "stream",
     "text": [
      "<class 'dict'>\n"
     ]
    }
   ],
   "source": [
    "print(type(bank))"
   ]
  },
  {
   "cell_type": "code",
   "execution_count": 29,
   "metadata": {},
   "outputs": [
    {
     "ename": "TypeError",
     "evalue": "write() argument must be str, not dict",
     "output_type": "error",
     "traceback": [
      "\u001b[1;31m---------------------------------------------------------------------------\u001b[0m",
      "\u001b[1;31mTypeError\u001b[0m                                 Traceback (most recent call last)",
      "\u001b[1;32m<ipython-input-29-194e0f78a4cb>\u001b[0m in \u001b[0;36m<module>\u001b[1;34m\u001b[0m\n\u001b[0;32m      1\u001b[0m \u001b[0mf\u001b[0m \u001b[1;33m=\u001b[0m \u001b[0mopen\u001b[0m\u001b[1;33m(\u001b[0m\u001b[1;34m\"c:/Users/HP-PC/Desktop/bank.txt\"\u001b[0m\u001b[1;33m,\u001b[0m\u001b[1;34m\"w\"\u001b[0m\u001b[1;33m)\u001b[0m\u001b[1;33m\u001b[0m\u001b[1;33m\u001b[0m\u001b[0m\n\u001b[1;32m----> 2\u001b[1;33m \u001b[0mf\u001b[0m\u001b[1;33m.\u001b[0m\u001b[0mwrite\u001b[0m\u001b[1;33m(\u001b[0m\u001b[0mbank\u001b[0m\u001b[1;33m)\u001b[0m\u001b[1;33m\u001b[0m\u001b[1;33m\u001b[0m\u001b[0m\n\u001b[0m\u001b[0;32m      3\u001b[0m \u001b[0mf\u001b[0m\u001b[1;33m.\u001b[0m\u001b[0mclose\u001b[0m\u001b[1;33m(\u001b[0m\u001b[1;33m)\u001b[0m\u001b[1;33m\u001b[0m\u001b[1;33m\u001b[0m\u001b[0m\n",
      "\u001b[1;31mTypeError\u001b[0m: write() argument must be str, not dict"
     ]
    }
   ],
   "source": [
    "f = open(\"c:/Users/HP-PC/Desktop/bank.txt\",\"w\")\n",
    "f.write(bank)\n",
    "f.close()"
   ]
  },
  {
   "cell_type": "code",
   "execution_count": 30,
   "metadata": {},
   "outputs": [],
   "source": [
    "#JSON -->Java Script Object Notations"
   ]
  },
  {
   "cell_type": "code",
   "execution_count": 31,
   "metadata": {},
   "outputs": [],
   "source": [
    "#Nested Dict"
   ]
  },
  {
   "cell_type": "code",
   "execution_count": 39,
   "metadata": {},
   "outputs": [],
   "source": [
    "d = {\"Programming_Language\":[{\n",
    "    \"Python\":\"GVR\",\n",
    "    \"C\":\"DR\",\n",
    "    \n",
    "},\n",
    "    {\"HTML\":\"WD\",\n",
    "     \"XML\":\"WD\"}\n",
    "],\n",
    "\"Hello\":[\"Hi\",\"hey\"]}"
   ]
  },
  {
   "cell_type": "code",
   "execution_count": 40,
   "metadata": {},
   "outputs": [
    {
     "name": "stdout",
     "output_type": "stream",
     "text": [
      "{'Programming_Language': [{'Python': 'GVR', 'C': 'DR'}, {'HTML': 'WD', 'XML': 'WD'}], 'Hello': ['Hi', 'hey']}\n"
     ]
    }
   ],
   "source": [
    "print(d)"
   ]
  },
  {
   "cell_type": "code",
   "execution_count": 41,
   "metadata": {},
   "outputs": [],
   "source": [
    "import json"
   ]
  },
  {
   "cell_type": "code",
   "execution_count": 42,
   "metadata": {},
   "outputs": [],
   "source": [
    "f = open(\"c:Users/HP-PC/Desktop/try.txt\",'w')"
   ]
  },
  {
   "cell_type": "code",
   "execution_count": 43,
   "metadata": {},
   "outputs": [],
   "source": [
    "json.dump(d,f)"
   ]
  },
  {
   "cell_type": "code",
   "execution_count": 44,
   "metadata": {},
   "outputs": [],
   "source": [
    "f.close()"
   ]
  },
  {
   "cell_type": "code",
   "execution_count": 45,
   "metadata": {},
   "outputs": [],
   "source": [
    "f = open(\"c:Users/HP-PC/Desktop/try.txt\",'r')"
   ]
  },
  {
   "cell_type": "code",
   "execution_count": 46,
   "metadata": {},
   "outputs": [],
   "source": [
    "d1=json.load(f)"
   ]
  },
  {
   "cell_type": "code",
   "execution_count": 47,
   "metadata": {},
   "outputs": [
    {
     "name": "stdout",
     "output_type": "stream",
     "text": [
      "{'Programming_Language': [{'Python': 'GVR', 'C': 'DR'}, {'HTML': 'WD', 'XML': 'WD'}], 'Hello': ['Hi', 'hey']}\n"
     ]
    }
   ],
   "source": [
    "print(d1)"
   ]
  },
  {
   "cell_type": "code",
   "execution_count": 48,
   "metadata": {},
   "outputs": [
    {
     "name": "stdout",
     "output_type": "stream",
     "text": [
      "<class 'dict'>\n"
     ]
    }
   ],
   "source": [
    "print(type(d1))"
   ]
  },
  {
   "cell_type": "code",
   "execution_count": 49,
   "metadata": {},
   "outputs": [],
   "source": [
    "import pickle"
   ]
  },
  {
   "cell_type": "code",
   "execution_count": 50,
   "metadata": {},
   "outputs": [],
   "source": [
    "f = open(\"g:/Mujhe Kaise Pata Na Chala Papon-(Mp3Sun.Com).mp3\",\"rb\")"
   ]
  },
  {
   "cell_type": "code",
   "execution_count": 51,
   "metadata": {},
   "outputs": [],
   "source": [
    "data = f.read()"
   ]
  },
  {
   "cell_type": "code",
   "execution_count": 52,
   "metadata": {},
   "outputs": [],
   "source": [
    "fp = open(\"c:Users/HP-PC/Desktop/try.txt\",'wb')"
   ]
  },
  {
   "cell_type": "code",
   "execution_count": 53,
   "metadata": {},
   "outputs": [],
   "source": [
    "pickle.dump(data,fp)"
   ]
  },
  {
   "cell_type": "code",
   "execution_count": 57,
   "metadata": {},
   "outputs": [],
   "source": [
    "fp.close()"
   ]
  },
  {
   "cell_type": "code",
   "execution_count": 56,
   "metadata": {},
   "outputs": [],
   "source": [
    "f.close()"
   ]
  },
  {
   "cell_type": "code",
   "execution_count": 1,
   "metadata": {},
   "outputs": [],
   "source": [
    "import time"
   ]
  },
  {
   "cell_type": "code",
   "execution_count": 3,
   "metadata": {},
   "outputs": [
    {
     "data": {
      "text/plain": [
       "'Mon Jun 15 19:24:49 2020'"
      ]
     },
     "execution_count": 3,
     "metadata": {},
     "output_type": "execute_result"
    }
   ],
   "source": [
    "time.ctime()"
   ]
  },
  {
   "cell_type": "markdown",
   "metadata": {},
   "source": [
    "Topic: Python intern batch 5_30\n",
    "Start Time : Jun 15, 2020 05:32 PM\n",
    "\n",
    "Meeting Recording:\n",
    "https://grras.zoom.us/rec/share/5dBwFKyqrmBIUJ324WLbYrZiBty4X6a8gyQZ_aVYmE5UJwoMoYfgf1gYy59u9HKN\n"
   ]
  },
  {
   "cell_type": "code",
   "execution_count": null,
   "metadata": {},
   "outputs": [],
   "source": []
  }
 ],
 "metadata": {
  "kernelspec": {
   "display_name": "Python 3",
   "language": "python",
   "name": "python3"
  },
  "language_info": {
   "codemirror_mode": {
    "name": "ipython",
    "version": 3
   },
   "file_extension": ".py",
   "mimetype": "text/x-python",
   "name": "python",
   "nbconvert_exporter": "python",
   "pygments_lexer": "ipython3",
   "version": "3.7.6"
  }
 },
 "nbformat": 4,
 "nbformat_minor": 4
}
